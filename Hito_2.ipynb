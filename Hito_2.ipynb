{
  "nbformat": 4,
  "nbformat_minor": 0,
  "metadata": {
    "colab": {
      "name": "Hito_2.ipynb",
      "provenance": [],
      "collapsed_sections": [
        "IgNEp19DtuY5",
        "NxNXCF7cKt3C"
      ]
    },
    "kernelspec": {
      "name": "python3",
      "display_name": "Python 3"
    },
    "language_info": {
      "name": "python"
    }
  },
  "cells": [
    {
      "cell_type": "markdown",
      "source": [
        "# Hito 1 Editado: Estudio, análisis y pre-procesamiento de ataques terroristas en el mundo.\n",
        "\n",
        "**Profesores:** \n",
        "\n",
        "* Felipe Bravo-Marquez M.\n",
        "* Hernán Sarmiento A.\n",
        "\n",
        "**Auxiliares:**\n",
        "* Jorge Ortiz F.\n",
        "* Cinthia Sánchez M.\n",
        "\n",
        "**Fecha:** 13 de Abril, 2022\n",
        "\n",
        "**Nombres:** \n",
        "* Augusto Aguayo B.\n",
        "* Nicolás Brandstetter N.\n",
        "* Nicolás Isla F.\n",
        "* Sebastián Moreno M.\n",
        "* Jordan Pérez D.\n"
      ],
      "metadata": {
        "id": "-wr_QkhOu1wL"
      }
    },
    {
      "cell_type": "markdown",
      "source": [
        "## Introducción\n",
        "\n",
        "### Contexto\n",
        "El terrorismo es algo que lamentablemente ha estado en nuestra sociedad desde hace décadas. Se define terrorismo como el uso sistemático del terror usado por distintas organizaciones o individuos con el fin de promocionar sus objetivos, ya sean políticos, económicos, religiosos o personales entre otros. Día a día se escuchan noticias referidas al tema en distintos lados del mundo, por lo que es interesante tener a disposición el registro histórico de estos eventos. Su estudio ayudaría a descubrir patrones de comportamientos o encontrar nueva información sobre eventos pasados para aprender de ellos, con la motivación de poder mejorar políticas de prevención de estos sucesos, que muchas veces significan pérdidas de vidas, destrucción de infraestructura, flora y/o fauna.\n",
        "\n",
        "### Motivación\n",
        "La principal motivación que lleva a escoger y estudiar este Data Set es encontrar y comprender patrones existentes en los ataques terroristas, visualizar la evolución de estos a lo largo de los años y encontrar tendencias y por ultimo, estudiar las implicancias existentes en los ataques terroristas, ya sea economica, política y socialmente. Esto dado que al tener mas información de esto, se podrían establecer protocolos de prevención."
      ],
      "metadata": {
        "id": "2e7QBsLeoo5S"
      }
    },
    {
      "cell_type": "markdown",
      "metadata": {
        "id": "b5f1838b"
      },
      "source": [
        "## Limpieza del dataset\n",
        "El dataset original, descargado de [Global Terrorism Database](https://www.start.umd.edu/gtd/), fue convertido a CSV mediante el siguiente script:"
      ]
    },
    {
      "cell_type": "code",
      "execution_count": null,
      "metadata": {
        "scrolled": true,
        "id": "3b614d62"
      },
      "outputs": [],
      "source": [
        "import pandas as pd\n",
        "#df_original = pd.read_excel('globalterrorismdb_0221dist.xlsx')\n",
        "#df_original.to_csv('globalterrorismdb_0221dist.csv', index=False)"
      ]
    },
    {
      "cell_type": "markdown",
      "metadata": {
        "id": "a6c9ae8e"
      },
      "source": [
        "Para luego ser leído como:"
      ]
    },
    {
      "cell_type": "code",
      "execution_count": null,
      "metadata": {
        "scrolled": false,
        "id": "c0e71ad2",
        "outputId": "40266f30-f1c9-49d5-c1f3-6e97aa2099cd",
        "colab": {
          "base_uri": "https://localhost:8080/",
          "height": 330
        }
      },
      "outputs": [
        {
          "output_type": "error",
          "ename": "FileNotFoundError",
          "evalue": "ignored",
          "traceback": [
            "\u001b[0;31m---------------------------------------------------------------------------\u001b[0m",
            "\u001b[0;31mFileNotFoundError\u001b[0m                         Traceback (most recent call last)",
            "\u001b[0;32m<ipython-input-2-6608bb27a777>\u001b[0m in \u001b[0;36m<module>\u001b[0;34m()\u001b[0m\n\u001b[0;32m----> 1\u001b[0;31m \u001b[0mdf\u001b[0m \u001b[0;34m=\u001b[0m \u001b[0mpd\u001b[0m\u001b[0;34m.\u001b[0m\u001b[0mread_csv\u001b[0m\u001b[0;34m(\u001b[0m\u001b[0;34m'globalterrorismdb_0221dist.csv'\u001b[0m\u001b[0;34m,\u001b[0m \u001b[0mlow_memory\u001b[0m\u001b[0;34m=\u001b[0m\u001b[0;32mFalse\u001b[0m\u001b[0;34m)\u001b[0m\u001b[0;34m\u001b[0m\u001b[0;34m\u001b[0m\u001b[0m\n\u001b[0m",
            "\u001b[0;32m/usr/local/lib/python3.7/dist-packages/pandas/util/_decorators.py\u001b[0m in \u001b[0;36mwrapper\u001b[0;34m(*args, **kwargs)\u001b[0m\n\u001b[1;32m    309\u001b[0m                     \u001b[0mstacklevel\u001b[0m\u001b[0;34m=\u001b[0m\u001b[0mstacklevel\u001b[0m\u001b[0;34m,\u001b[0m\u001b[0;34m\u001b[0m\u001b[0;34m\u001b[0m\u001b[0m\n\u001b[1;32m    310\u001b[0m                 )\n\u001b[0;32m--> 311\u001b[0;31m             \u001b[0;32mreturn\u001b[0m \u001b[0mfunc\u001b[0m\u001b[0;34m(\u001b[0m\u001b[0;34m*\u001b[0m\u001b[0margs\u001b[0m\u001b[0;34m,\u001b[0m \u001b[0;34m**\u001b[0m\u001b[0mkwargs\u001b[0m\u001b[0;34m)\u001b[0m\u001b[0;34m\u001b[0m\u001b[0;34m\u001b[0m\u001b[0m\n\u001b[0m\u001b[1;32m    312\u001b[0m \u001b[0;34m\u001b[0m\u001b[0m\n\u001b[1;32m    313\u001b[0m         \u001b[0;32mreturn\u001b[0m \u001b[0mwrapper\u001b[0m\u001b[0;34m\u001b[0m\u001b[0;34m\u001b[0m\u001b[0m\n",
            "\u001b[0;32m/usr/local/lib/python3.7/dist-packages/pandas/io/parsers/readers.py\u001b[0m in \u001b[0;36mread_csv\u001b[0;34m(filepath_or_buffer, sep, delimiter, header, names, index_col, usecols, squeeze, prefix, mangle_dupe_cols, dtype, engine, converters, true_values, false_values, skipinitialspace, skiprows, skipfooter, nrows, na_values, keep_default_na, na_filter, verbose, skip_blank_lines, parse_dates, infer_datetime_format, keep_date_col, date_parser, dayfirst, cache_dates, iterator, chunksize, compression, thousands, decimal, lineterminator, quotechar, quoting, doublequote, escapechar, comment, encoding, encoding_errors, dialect, error_bad_lines, warn_bad_lines, on_bad_lines, delim_whitespace, low_memory, memory_map, float_precision, storage_options)\u001b[0m\n\u001b[1;32m    584\u001b[0m     \u001b[0mkwds\u001b[0m\u001b[0;34m.\u001b[0m\u001b[0mupdate\u001b[0m\u001b[0;34m(\u001b[0m\u001b[0mkwds_defaults\u001b[0m\u001b[0;34m)\u001b[0m\u001b[0;34m\u001b[0m\u001b[0;34m\u001b[0m\u001b[0m\n\u001b[1;32m    585\u001b[0m \u001b[0;34m\u001b[0m\u001b[0m\n\u001b[0;32m--> 586\u001b[0;31m     \u001b[0;32mreturn\u001b[0m \u001b[0m_read\u001b[0m\u001b[0;34m(\u001b[0m\u001b[0mfilepath_or_buffer\u001b[0m\u001b[0;34m,\u001b[0m \u001b[0mkwds\u001b[0m\u001b[0;34m)\u001b[0m\u001b[0;34m\u001b[0m\u001b[0;34m\u001b[0m\u001b[0m\n\u001b[0m\u001b[1;32m    587\u001b[0m \u001b[0;34m\u001b[0m\u001b[0m\n\u001b[1;32m    588\u001b[0m \u001b[0;34m\u001b[0m\u001b[0m\n",
            "\u001b[0;32m/usr/local/lib/python3.7/dist-packages/pandas/io/parsers/readers.py\u001b[0m in \u001b[0;36m_read\u001b[0;34m(filepath_or_buffer, kwds)\u001b[0m\n\u001b[1;32m    480\u001b[0m \u001b[0;34m\u001b[0m\u001b[0m\n\u001b[1;32m    481\u001b[0m     \u001b[0;31m# Create the parser.\u001b[0m\u001b[0;34m\u001b[0m\u001b[0;34m\u001b[0m\u001b[0;34m\u001b[0m\u001b[0m\n\u001b[0;32m--> 482\u001b[0;31m     \u001b[0mparser\u001b[0m \u001b[0;34m=\u001b[0m \u001b[0mTextFileReader\u001b[0m\u001b[0;34m(\u001b[0m\u001b[0mfilepath_or_buffer\u001b[0m\u001b[0;34m,\u001b[0m \u001b[0;34m**\u001b[0m\u001b[0mkwds\u001b[0m\u001b[0;34m)\u001b[0m\u001b[0;34m\u001b[0m\u001b[0;34m\u001b[0m\u001b[0m\n\u001b[0m\u001b[1;32m    483\u001b[0m \u001b[0;34m\u001b[0m\u001b[0m\n\u001b[1;32m    484\u001b[0m     \u001b[0;32mif\u001b[0m \u001b[0mchunksize\u001b[0m \u001b[0;32mor\u001b[0m \u001b[0miterator\u001b[0m\u001b[0;34m:\u001b[0m\u001b[0;34m\u001b[0m\u001b[0;34m\u001b[0m\u001b[0m\n",
            "\u001b[0;32m/usr/local/lib/python3.7/dist-packages/pandas/io/parsers/readers.py\u001b[0m in \u001b[0;36m__init__\u001b[0;34m(self, f, engine, **kwds)\u001b[0m\n\u001b[1;32m    809\u001b[0m             \u001b[0mself\u001b[0m\u001b[0;34m.\u001b[0m\u001b[0moptions\u001b[0m\u001b[0;34m[\u001b[0m\u001b[0;34m\"has_index_names\"\u001b[0m\u001b[0;34m]\u001b[0m \u001b[0;34m=\u001b[0m \u001b[0mkwds\u001b[0m\u001b[0;34m[\u001b[0m\u001b[0;34m\"has_index_names\"\u001b[0m\u001b[0;34m]\u001b[0m\u001b[0;34m\u001b[0m\u001b[0;34m\u001b[0m\u001b[0m\n\u001b[1;32m    810\u001b[0m \u001b[0;34m\u001b[0m\u001b[0m\n\u001b[0;32m--> 811\u001b[0;31m         \u001b[0mself\u001b[0m\u001b[0;34m.\u001b[0m\u001b[0m_engine\u001b[0m \u001b[0;34m=\u001b[0m \u001b[0mself\u001b[0m\u001b[0;34m.\u001b[0m\u001b[0m_make_engine\u001b[0m\u001b[0;34m(\u001b[0m\u001b[0mself\u001b[0m\u001b[0;34m.\u001b[0m\u001b[0mengine\u001b[0m\u001b[0;34m)\u001b[0m\u001b[0;34m\u001b[0m\u001b[0;34m\u001b[0m\u001b[0m\n\u001b[0m\u001b[1;32m    812\u001b[0m \u001b[0;34m\u001b[0m\u001b[0m\n\u001b[1;32m    813\u001b[0m     \u001b[0;32mdef\u001b[0m \u001b[0mclose\u001b[0m\u001b[0;34m(\u001b[0m\u001b[0mself\u001b[0m\u001b[0;34m)\u001b[0m\u001b[0;34m:\u001b[0m\u001b[0;34m\u001b[0m\u001b[0;34m\u001b[0m\u001b[0m\n",
            "\u001b[0;32m/usr/local/lib/python3.7/dist-packages/pandas/io/parsers/readers.py\u001b[0m in \u001b[0;36m_make_engine\u001b[0;34m(self, engine)\u001b[0m\n\u001b[1;32m   1038\u001b[0m             )\n\u001b[1;32m   1039\u001b[0m         \u001b[0;31m# error: Too many arguments for \"ParserBase\"\u001b[0m\u001b[0;34m\u001b[0m\u001b[0;34m\u001b[0m\u001b[0;34m\u001b[0m\u001b[0m\n\u001b[0;32m-> 1040\u001b[0;31m         \u001b[0;32mreturn\u001b[0m \u001b[0mmapping\u001b[0m\u001b[0;34m[\u001b[0m\u001b[0mengine\u001b[0m\u001b[0;34m]\u001b[0m\u001b[0;34m(\u001b[0m\u001b[0mself\u001b[0m\u001b[0;34m.\u001b[0m\u001b[0mf\u001b[0m\u001b[0;34m,\u001b[0m \u001b[0;34m**\u001b[0m\u001b[0mself\u001b[0m\u001b[0;34m.\u001b[0m\u001b[0moptions\u001b[0m\u001b[0;34m)\u001b[0m  \u001b[0;31m# type: ignore[call-arg]\u001b[0m\u001b[0;34m\u001b[0m\u001b[0;34m\u001b[0m\u001b[0m\n\u001b[0m\u001b[1;32m   1041\u001b[0m \u001b[0;34m\u001b[0m\u001b[0m\n\u001b[1;32m   1042\u001b[0m     \u001b[0;32mdef\u001b[0m \u001b[0m_failover_to_python\u001b[0m\u001b[0;34m(\u001b[0m\u001b[0mself\u001b[0m\u001b[0;34m)\u001b[0m\u001b[0;34m:\u001b[0m\u001b[0;34m\u001b[0m\u001b[0;34m\u001b[0m\u001b[0m\n",
            "\u001b[0;32m/usr/local/lib/python3.7/dist-packages/pandas/io/parsers/c_parser_wrapper.py\u001b[0m in \u001b[0;36m__init__\u001b[0;34m(self, src, **kwds)\u001b[0m\n\u001b[1;32m     49\u001b[0m \u001b[0;34m\u001b[0m\u001b[0m\n\u001b[1;32m     50\u001b[0m         \u001b[0;31m# open handles\u001b[0m\u001b[0;34m\u001b[0m\u001b[0;34m\u001b[0m\u001b[0;34m\u001b[0m\u001b[0m\n\u001b[0;32m---> 51\u001b[0;31m         \u001b[0mself\u001b[0m\u001b[0;34m.\u001b[0m\u001b[0m_open_handles\u001b[0m\u001b[0;34m(\u001b[0m\u001b[0msrc\u001b[0m\u001b[0;34m,\u001b[0m \u001b[0mkwds\u001b[0m\u001b[0;34m)\u001b[0m\u001b[0;34m\u001b[0m\u001b[0;34m\u001b[0m\u001b[0m\n\u001b[0m\u001b[1;32m     52\u001b[0m         \u001b[0;32massert\u001b[0m \u001b[0mself\u001b[0m\u001b[0;34m.\u001b[0m\u001b[0mhandles\u001b[0m \u001b[0;32mis\u001b[0m \u001b[0;32mnot\u001b[0m \u001b[0;32mNone\u001b[0m\u001b[0;34m\u001b[0m\u001b[0;34m\u001b[0m\u001b[0m\n\u001b[1;32m     53\u001b[0m \u001b[0;34m\u001b[0m\u001b[0m\n",
            "\u001b[0;32m/usr/local/lib/python3.7/dist-packages/pandas/io/parsers/base_parser.py\u001b[0m in \u001b[0;36m_open_handles\u001b[0;34m(self, src, kwds)\u001b[0m\n\u001b[1;32m    227\u001b[0m             \u001b[0mmemory_map\u001b[0m\u001b[0;34m=\u001b[0m\u001b[0mkwds\u001b[0m\u001b[0;34m.\u001b[0m\u001b[0mget\u001b[0m\u001b[0;34m(\u001b[0m\u001b[0;34m\"memory_map\"\u001b[0m\u001b[0;34m,\u001b[0m \u001b[0;32mFalse\u001b[0m\u001b[0;34m)\u001b[0m\u001b[0;34m,\u001b[0m\u001b[0;34m\u001b[0m\u001b[0;34m\u001b[0m\u001b[0m\n\u001b[1;32m    228\u001b[0m             \u001b[0mstorage_options\u001b[0m\u001b[0;34m=\u001b[0m\u001b[0mkwds\u001b[0m\u001b[0;34m.\u001b[0m\u001b[0mget\u001b[0m\u001b[0;34m(\u001b[0m\u001b[0;34m\"storage_options\"\u001b[0m\u001b[0;34m,\u001b[0m \u001b[0;32mNone\u001b[0m\u001b[0;34m)\u001b[0m\u001b[0;34m,\u001b[0m\u001b[0;34m\u001b[0m\u001b[0;34m\u001b[0m\u001b[0m\n\u001b[0;32m--> 229\u001b[0;31m             \u001b[0merrors\u001b[0m\u001b[0;34m=\u001b[0m\u001b[0mkwds\u001b[0m\u001b[0;34m.\u001b[0m\u001b[0mget\u001b[0m\u001b[0;34m(\u001b[0m\u001b[0;34m\"encoding_errors\"\u001b[0m\u001b[0;34m,\u001b[0m \u001b[0;34m\"strict\"\u001b[0m\u001b[0;34m)\u001b[0m\u001b[0;34m,\u001b[0m\u001b[0;34m\u001b[0m\u001b[0;34m\u001b[0m\u001b[0m\n\u001b[0m\u001b[1;32m    230\u001b[0m         )\n\u001b[1;32m    231\u001b[0m \u001b[0;34m\u001b[0m\u001b[0m\n",
            "\u001b[0;32m/usr/local/lib/python3.7/dist-packages/pandas/io/common.py\u001b[0m in \u001b[0;36mget_handle\u001b[0;34m(path_or_buf, mode, encoding, compression, memory_map, is_text, errors, storage_options)\u001b[0m\n\u001b[1;32m    705\u001b[0m                 \u001b[0mencoding\u001b[0m\u001b[0;34m=\u001b[0m\u001b[0mioargs\u001b[0m\u001b[0;34m.\u001b[0m\u001b[0mencoding\u001b[0m\u001b[0;34m,\u001b[0m\u001b[0;34m\u001b[0m\u001b[0;34m\u001b[0m\u001b[0m\n\u001b[1;32m    706\u001b[0m                 \u001b[0merrors\u001b[0m\u001b[0;34m=\u001b[0m\u001b[0merrors\u001b[0m\u001b[0;34m,\u001b[0m\u001b[0;34m\u001b[0m\u001b[0;34m\u001b[0m\u001b[0m\n\u001b[0;32m--> 707\u001b[0;31m                 \u001b[0mnewline\u001b[0m\u001b[0;34m=\u001b[0m\u001b[0;34m\"\"\u001b[0m\u001b[0;34m,\u001b[0m\u001b[0;34m\u001b[0m\u001b[0;34m\u001b[0m\u001b[0m\n\u001b[0m\u001b[1;32m    708\u001b[0m             )\n\u001b[1;32m    709\u001b[0m         \u001b[0;32melse\u001b[0m\u001b[0;34m:\u001b[0m\u001b[0;34m\u001b[0m\u001b[0;34m\u001b[0m\u001b[0m\n",
            "\u001b[0;31mFileNotFoundError\u001b[0m: [Errno 2] No such file or directory: 'globalterrorismdb_0221dist.csv'"
          ]
        }
      ],
      "source": [
        "df = pd.read_csv('globalterrorismdb_0221dist.csv', low_memory=False)"
      ]
    },
    {
      "cell_type": "markdown",
      "metadata": {
        "id": "aef0dde0"
      },
      "source": [
        "Una vez cargado, se limpian los datos:\n",
        "\n",
        "Eliminando las columnas que no interesan para el estudio:"
      ]
    },
    {
      "cell_type": "code",
      "execution_count": null,
      "metadata": {
        "id": "56856f1f"
      },
      "outputs": [],
      "source": [
        "# Remove irrelevant columns for the study\n",
        "to_remove = [   \n",
        "                'approxdate',                                                                           # Estimated date of the incident, when it is not certain.\n",
        "                'country', 'region',                                                                    # Codes for country and region.\n",
        "                'summary',                                                                              # Descriptive text about the incident.\n",
        "                'doubtterr',                                                                            # Flags if there is doubt about this being a terrorist attack.\n",
        "                'alternative', 'alternative_txt',                                                       # If there was doubt (doubtterr flag), proposes an alternative.\n",
        "                'multiple',                                                                             # If corresponds with a series of related incidents, redundant with information in 'related' column.\n",
        "                'attacktype1', 'attacktype2', 'attacktype3',                                            # Codes for attack types.\n",
        "                'targtype1', 'targsubtype1',                                                            # Codes for target type in target 1.\n",
        "                'target1',                                                                              # Descriptive text for target 1.\n",
        "                'natlty1',                                                                              # Codes for nationality of target 1.\n",
        "                'targtype2', 'targsubtype2',                                                            # Applies the same last 3 lines for target 2 and 3.\n",
        "                'target2',                                                          \n",
        "                'natlty2',                                          \n",
        "                'targtype3', 'targsubtype3',                        \n",
        "                'target3',                                                          \n",
        "                'natlty3',\n",
        "                'gsubname', 'gsubname2', 'gsubname3',                                                   # Subdivision of group 1, 2 o 3 that has claimed the incident.\n",
        "                'guncertain1', 'guncertain2', 'guncertain3',                                            # Flags if theres uncertainty about group 1, 2 or 3 taking part in the incident.\n",
        "                'individual',                                                                           # Flags if the perpetrators do not correspond to a terrorist group, redudant by 'gname' column.\n",
        "                'nperps',                                                                               # Number of perpetrators.\n",
        "                'claimed', 'claimmode', 'claimmode_txt',                                                # Flags and codes/descriptive text about group 1 claiming the incident.\n",
        "                'claim2', 'claimmode2', 'claimmode2_txt',                                               # Same for group 2 and 3.\n",
        "                'claim3', 'claimmode3', 'claimmode3_txt',\n",
        "                'compclaim',                                                                            # Flags if several groups claims the incident.\n",
        "                'weaptype1', 'weapsubtype1',                                                            # Codes for weapon 1 type used by the perpetrators, below are codes for weapon 2, 3 and 4.\n",
        "                'weaptype2', 'weapsubtype2',\n",
        "                'weaptype3', 'weapsubtype3',\n",
        "                'weaptype4', 'weapsubtype4',\n",
        "                'weapdetail',                                                                           # Descriptive text about the weapons used by the perpetrators.\n",
        "                'nkillus',  'nwoundus',                                                                 # Death and wounded toll, only taking US citizens into account.\n",
        "                'propvalue', 'propcomment',                                                             # Damage to properties in USD (present in only few cases), and descriptive text about the damage.\n",
        "                'nhostkidus',                                                                           # Number of hostages taken, only taking US citizens into account.\n",
        "                'divert',                                                                               # Country that the kidnappers diverted after the resolution of the incident.\n",
        "                'kidhijcountry',                                                                        # Country where the hostage incident was resolved.\n",
        "                'ransom', 'ransomamt', 'ransomamtus', 'ransompaid', 'ransompaidus', 'ransomnote',       # Information about the ransom involving the hostage incident.\n",
        "                'hostkidoutcome',                                                                       # Code for the outcome of the hostages.\n",
        "                'addnotes',                                                                             # Descriptive text for additional notes about the incident.\n",
        "                'scite1', 'scite2', 'scite3', 'dbsource',                                               # Information sources for the incident.\n",
        "                'INT_MISC', 'INT_ANY',                                                                  # Flags if the incidents corresponds to an International misc. or any International type.\n",
        "            ]\n",
        "\n",
        "df = df.loc[:, ~df.columns.isin(to_remove)]"
      ]
    },
    {
      "cell_type": "markdown",
      "metadata": {
        "id": "6ef42581"
      },
      "source": [
        "Luego, solo se consideran los incidentes ocurridos desde 1998 en adelante, puesto que desde este año se incluyen sistemáticamente muchos atributos en el dataset, e involucra tendencias actuales del terrorismo.\n",
        "\n",
        "También, se remueven entradas que tengan mal formateada la fecha."
      ]
    },
    {
      "cell_type": "code",
      "execution_count": null,
      "metadata": {
        "id": "f4271aba"
      },
      "outputs": [],
      "source": [
        "# Remove incidents: 1.  Ocurred before 1998\n",
        "#                   2.  With day/month set as 0\n",
        "df = df[(df.iyear >= 1998) & (df.iday > 0) & (df.imonth > 0)]"
      ]
    },
    {
      "cell_type": "markdown",
      "metadata": {
        "id": "8377436f"
      },
      "source": [
        "Se remueven incidentes ocurridos en contextos de guerra, puesto que no son parte del foco de este estudio."
      ]
    },
    {
      "cell_type": "code",
      "execution_count": null,
      "metadata": {
        "id": "7ffcda3d"
      },
      "outputs": [],
      "source": [
        "# Remove incidents ocurred within context of war\n",
        "df = df[df.crit3 != 0]\n",
        "df = df.loc[:, df.columns!='crit3']"
      ]
    },
    {
      "cell_type": "markdown",
      "metadata": {
        "id": "ff24ec5a"
      },
      "source": [
        "Se agrega según las columnas de año, mes y día (`iyear`, `imonth` y `iday` respectivamente) una columna `timestamp`, que indica la fecha de inicio del incidente.\n",
        "\n",
        "También, según la columna `extended` y `resolution`, se agrega una columna `end_date`, que contiene la fecha de termino del incidente."
      ]
    },
    {
      "cell_type": "code",
      "execution_count": null,
      "metadata": {
        "id": "e3ad8638"
      },
      "outputs": [],
      "source": [
        "import datetime\n",
        "import numpy as np\n",
        "\n",
        "# Merge iyear, imonth, iday column into a timestamp column within a timestamp format\n",
        "df['timestamp'] = df[['iyear', 'imonth', 'iday']].apply(lambda s: datetime.datetime(*s), axis=1)\n",
        "df = df.loc[:, ~df.columns.isin(['iyear', 'imonth', 'iday'])]\n",
        "\n",
        "# Merge extended, resolution columns into end_date and duration (days) column\n",
        "end_date  = pd.to_datetime(df['resolution'], format='%Y-%m-%d')\n",
        "end_date = np.where(pd.isnull(df['resolution']), df['timestamp'], end_date)\n",
        "df['end_date'] = end_date\n",
        "df['duration'] = (df['end_date'] - df['timestamp']).apply(lambda s: s.days + 1)\n",
        "df = df.loc[:, ~df.columns.isin(['extended', 'resolution'])]\n",
        "\n",
        "# Filter out incidents where duration has a non positive value\n",
        "df = df[df.duration > 0]"
      ]
    },
    {
      "cell_type": "markdown",
      "metadata": {
        "id": "1098bfad"
      },
      "source": [
        "Se agrega una columna `perpcapture` según la columna `nperpcap`, que indica la captura de perpetradores del incidente, donde:\n",
        "\n",
        "* `na`: No hay información de capturas.\n",
        "* `1`: Hubieron perpetradores capturados.\n",
        "* `0`: No hubieron perpetradores capturados."
      ]
    },
    {
      "cell_type": "code",
      "execution_count": null,
      "metadata": {
        "id": "337b5dba"
      },
      "outputs": [],
      "source": [
        "# Add a new column: perpcapture that flags when there are captured perpetrators\n",
        "# where:    na. unknown\n",
        "#            0. no perpetrator captured\n",
        "#            1. at least one perpetrator captured\n",
        "perpcapture = np.where(df.nperpcap == 0, 0, np.nan)\n",
        "perpcapture = np.where(df.nperpcap > 0, 1, perpcapture)\n",
        "df['perpcapture'] = perpcapture\n",
        "df = df.loc[:, df.columns!='nperpcap']"
      ]
    },
    {
      "cell_type": "markdown",
      "metadata": {
        "id": "85926d28"
      },
      "source": [
        "Se agrega una columna `propdamage` según los datos de las columnas `property`, `propextent` y `propextent_txt`, que indica el daño a propiedades generado por el incidente, donde:\n",
        "\n",
        "* `na`: No hay información de daño a propiedades.\n",
        "* `0`: No hubo daños.\n",
        "* `1`: Daños menores (costos $<$ 1 millón de USD)\n",
        "* `2`: Daños mayores (1 millón $\\leq$ costos $<$ 1000 millones de USD)\n",
        "* `3`: Daños catastróficos (1000 millones de USD $\\leq$ costos)"
      ]
    },
    {
      "cell_type": "code",
      "execution_count": null,
      "metadata": {
        "id": "aaf540af"
      },
      "outputs": [],
      "source": [
        "df['propdamage'] = np.where(df.property == 0, 0, np.nan)\n",
        "df['propdamage'] = np.where(df.propextent == 4, np.nan, df.propdamage)\n",
        "df['propdamage'] = np.where(df.propextent == 3, 1, df.propdamage)\n",
        "df['propdamage'] = np.where(df.propextent == 2, 2, df.propdamage)\n",
        "df['propdamage'] = np.where(df.propextent == 1, 3, df.propdamage)\n",
        "df = df.loc[:, ~df.columns.isin(['property', 'propextent', 'propextent_txt'])]"
      ]
    },
    {
      "cell_type": "markdown",
      "metadata": {
        "id": "07cee446"
      },
      "source": [
        "Reseteo de índices y se borra la columna creada `index`, que contiene los índices antiguos.\n"
      ]
    },
    {
      "cell_type": "code",
      "execution_count": null,
      "metadata": {
        "id": "2a3eefe4"
      },
      "outputs": [],
      "source": [
        "# Reset indexes and delete the newly generated index column, containing the old indexes\n",
        "df = df.reset_index()\n",
        "df = df.loc[:, df.columns!='index']"
      ]
    },
    {
      "cell_type": "markdown",
      "metadata": {
        "id": "8acd1421"
      },
      "source": [
        "Se eliminan las referencias a incidentes que han sido eliminados del dataset, y se agrega una columna `n_related` que indica cuantos incidentes relacionados hay para cada uno."
      ]
    },
    {
      "cell_type": "code",
      "execution_count": null,
      "metadata": {
        "id": "c7129ad7"
      },
      "outputs": [],
      "source": [
        "# Ugly code to remove deleted references from related column\n",
        "for i in range(len(df)):\n",
        "    related_incidents_str = df.at[i, 'related']\n",
        "    if pd.isna(related_incidents_str):\n",
        "        df.at[i, 'related'] = ''\n",
        "    else:\n",
        "        related_incidents_initial = [int(event_id) for event_id in related_incidents_str.replace(' ', '').split(',')]\n",
        "        \n",
        "        related_incidents_final = []\n",
        "        for event_id in related_incidents_initial:\n",
        "            if event_id in df.eventid.values:\n",
        "                related_incidents_final.append(event_id)\n",
        "\n",
        "        df.at[i, 'related'] = \",\".join([str(i) for i in related_incidents_final])\n",
        "\n",
        "\n",
        "# Add a n_related column, displaying how many related incidents for each incident there are\n",
        "n_related = np.where(df.related != '', df.related.apply(lambda s: len(s.split(','))), 0)\n",
        "df['n_related'] = n_related\n",
        "\n",
        "# Change blank values in related for nan\n",
        "df.related = np.where(df.related == '', np.nan, df.related)"
      ]
    },
    {
      "cell_type": "markdown",
      "metadata": {
        "id": "80b4e469"
      },
      "source": [
        "Reemplazo de los valores desconocidos por `na`."
      ]
    },
    {
      "cell_type": "code",
      "execution_count": null,
      "metadata": {
        "id": "b65736ab"
      },
      "outputs": [],
      "source": [
        "# Replace unknown values for n/a\n",
        "columns_with_unknown_values = {\n",
        "                                -9:         [\n",
        "                                                'vicinity',\n",
        "                                                'ishostkid', 'nhours',\n",
        "                                                'INT_LOG', 'INT_IDEO'\n",
        "                                            ],\n",
        "                                -99:        [\n",
        "                                                'nhostkid', 'nhours','ndays', 'nreleased'\n",
        "\n",
        "                                            ],\n",
        "                                'Unknown':  [\n",
        "                                                'attacktype1_txt', 'attacktype2_txt', 'attacktype3_txt',\n",
        "                                                'targtype1_txt', 'targtype2_txt', 'targtype3_txt',\n",
        "                                                'gname',\n",
        "                                                'motive',\n",
        "                                                'weaptype1_txt', 'weaptype2_txt', 'weaptype3_txt', 'weaptype4_txt',\n",
        "                                                'hostkidoutcome_txt'\n",
        "                                            ]\n",
        "                              }\n",
        "\n",
        "for value in columns_with_unknown_values.keys():\n",
        "    for column in columns_with_unknown_values[value]:\n",
        "        df[column] = np.where(df[column] == value, np.nan, df[column])"
      ]
    },
    {
      "cell_type": "markdown",
      "metadata": {
        "id": "21e93d34"
      },
      "source": [
        "Se agrega una columna `country_code` que indica el código del país en formato [ISO-3166-1](https://en.wikipedia.org/wiki/ISO_3166-1_alpha-3) , el cual será util para algunas librerías para graficar mapas."
      ]
    },
    {
      "cell_type": "code",
      "execution_count": null,
      "metadata": {
        "id": "5932f5ac"
      },
      "outputs": [],
      "source": [
        "import pycountry\n",
        "\n",
        "# Add an ISO-3166-1 column with 3-letter country code for each entry, used to plot maps in certain libraries.\n",
        "def search_country_code(country_name):\n",
        "    try:\n",
        "        return pycountry.countries.search_fuzzy(country_name)[0].alpha_3\n",
        "    except:\n",
        "        return 'UNK'\n",
        "\n",
        "country_code_dict = {country:search_country_code(country) for country in df.country_txt.unique()}\n",
        "df['country_code'] = df.country_txt.apply(lambda c: country_code_dict[c])"
      ]
    },
    {
      "cell_type": "markdown",
      "metadata": {
        "id": "3b5fb71f"
      },
      "source": [
        "Reordenación las columnas del dataset."
      ]
    },
    {
      "cell_type": "code",
      "execution_count": null,
      "metadata": {
        "id": "f4619f38"
      },
      "outputs": [],
      "source": [
        "# Reorder columns\n",
        "column_order = [\n",
        "                    'eventid',\n",
        "                    'timestamp', 'end_date', 'duration',\n",
        "                    'country_txt', 'country_code', 'region_txt', 'provstate', 'city', 'location',\n",
        "                    'latitude', 'longitude', 'specificity', 'vicinity',\n",
        "                    'crit1', 'crit2',\n",
        "                    'success', 'suicide',\n",
        "                    'attacktype1_txt', 'attacktype2_txt', 'attacktype3_txt',\n",
        "                    'targtype1_txt', 'targsubtype1_txt', 'corp1', 'natlty1_txt',\n",
        "                    'targtype2_txt', 'targsubtype2_txt', 'corp2', 'natlty2_txt',\n",
        "                    'targtype3_txt', 'targsubtype3_txt', 'corp3', 'natlty3_txt',\n",
        "                    'gname', 'gname2', 'gname3',\n",
        "                    'motive',\n",
        "                    'weaptype1_txt', 'weapsubtype1_txt',\n",
        "                    'weaptype2_txt', 'weapsubtype2_txt',\n",
        "                    'weaptype3_txt', 'weapsubtype3_txt',\n",
        "                    'weaptype4_txt', 'weapsubtype4_txt',\n",
        "                    'nkill', 'nkillter', 'nwound', 'nwoundte', 'perpcapture',\n",
        "                    'ishostkid', 'nhostkid', 'nhours', 'ndays', 'hostkidoutcome_txt', 'nreleased',\n",
        "                    'propdamage',\n",
        "                    'INT_LOG', 'INT_IDEO',\n",
        "                    'related', 'n_related'\n",
        "               ]\n",
        "\n",
        "df = df.reindex(columns=column_order)"
      ]
    },
    {
      "cell_type": "markdown",
      "metadata": {
        "id": "8189438d"
      },
      "source": [
        "Finalmente, se guarda el dataset ya limpio en un archivo `out.csv`."
      ]
    },
    {
      "cell_type": "code",
      "execution_count": null,
      "metadata": {
        "scrolled": true,
        "id": "e616cfac"
      },
      "outputs": [],
      "source": [
        "# Save the cleaned dataframe\n",
        "#df.to_csv('out.csv', index=False, na_rep=np.nan)"
      ]
    },
    {
      "cell_type": "markdown",
      "source": [
        "* ### Dataset final\n",
        "Luego de todo el filtrado de la sección 2.1 se llegó a un Dataframe con 115.998 filas.\\\n",
        "La descripción de cada columna del dataset filtrado se presenta a continuación:\n",
        "\n",
        "* `eventid`: ID única relacionado al atentado.\n",
        "* `timestamp`: Fecha de inicio del atentado\n",
        "* `end_date`: Fecha de término del atentado\n",
        "* `duration`: Duración en días del atentado\n",
        "* `country_txt`: País en el que ocurre el incidente.\n",
        "* `country_code`: Código identificador del país según la normativa [ISO_3166-1 alpha-3](https://en.wikipedia.org/wiki/ISO_3166-1_alpha-3).\n",
        "* `region_txt`: Región geográfica (continente/subcontinente) donde ocurre el incidente.\n",
        "* `provstate`: Región administrativa subnacional de 1er orden en la que ocurre el evento.\n",
        "* `city`: Ciudad donde ocurre el incidente.\n",
        "* `location`: Texto descriptivo del lugar del atentado, en caso de haber más precisión.\n",
        "* `latitude`: Latitud del lugar del atentado.\n",
        "* `longitude`: Longitud del lugar del atentado.\n",
        "* `specificity`: Escala del `1` al `5` con qué tan específico se tiene el lugar del ataque. `1` es que `lat`, `long` representa exactamente el lugar, mientras que `5` es que no se puede encontrar el lugar ni una referencia cercana del ataque, por lo que las coordenadas son aproximadas al centroide de la región administrativa más cercana.\n",
        "* `vicinity`: Indica con `1` si el incidente ocurrió en las inmediaciones directas de la ciudad, `0` si ocurrió en el interior de la ciudad.\n",
        "* `crit1`: Indica con `1` si el incidente fue de carácter político, religioso, económico o con objetivo social, `0` si no.\n",
        "* `crit2`: Indica con `1` si el incidente fue con intención de intimidar, `0` si no.\n",
        "* `success`: Indica con `1` si el ataque fue exitoso o `0` si no dependiendo del objetivo.\n",
        "* `suicide`: Indica con `1` si el ataque fue suicida, `0` si no.\n",
        "* `attacktype1_txt`: Jerarquía de forma de ataque que se usó de forma principal. Sus valores van del 1 al 9 con el siguiente orden: `Assassination`, `Hijacking`, `Kidnapping`, `Barricade Incident`, `Bombing/Explosion`, `Armed Assault`, `Unarmed Assault`, `Facility/Infrastructure Attack`, `Unknown`.\n",
        "* `attacktype2_txt`: Jerarquía de forma de ataque secundaria según la misma escala que el punto 1.\n",
        "* `attacktype3_txt`: Jerarquía de forma de ataque terciaria según la misma escala que el punto 1.\n",
        "* `targtype1_txt`: Describe de forma general el contexto del ataque. Por ejemplo, si se atacó a un familiar de gobierno su ítem respectivo es “gobierno”. Tiene 22 categorías distintas.\n",
        "* `targsubtype1_txt`: Contiene categorías para especificar más la categoría contenida en ‘targtype1_txt’.\n",
        "* `corp1`: Entidad que es el objetivo del incidente.\n",
        "* `natlty1_txt`: Nacionalidad del objetivo.\n",
        "<br>Nota: Existen campos también para el objetivo 2 y 3.\n",
        "\n",
        "* `gname`: Nombre del grupo que se atribuye el incidente.\n",
        "* `gname2`: Nombre de un segundo grupo que se atribuye el incidente (en caso de haber).\n",
        "* `gname3`: Nombre de un tercer grupo que se atribuye el incidente (en caso de haber).\n",
        "* `motive`: Texto descriptivo, indica el motivo del ataque.\n",
        "* `weaptype1_txt`: Corresponde al tipo de arma utilizada.\n",
        "* `weapsubtype1_txt`: Si aplica, el subtipo de clasificación del arma utilizada.\n",
        "<br>Nota: Existen campos también para el arma 2, 3 y 4.\n",
        "\n",
        "* `nkill`: Indica el número total de muertos durante el incidente (incluyendo perpetradores).\n",
        "* `nkillter`: Indica el número de muertos heridos durante el incidente.\n",
        "* `nwound`: Indica el número total de heridos durante el incidente (incluyendo perpetradores).\n",
        "* `nwoundte`: Indica el número de perpetradores heridos durante el incidente.\n",
        "* `perpcapture`: Indica con un `1` si hubieron capturas a algún perpetrador, con `0` si no.\n",
        "* `ishostkid`: Indica con un `1` si el incidente incluye alguna situación de secuestro, con un `0` si no.\n",
        "* `nhostkid`: Es el número de secuestrados o personas tomadas como rehenes en el atentado.\n",
        "* `nhour`s: Número de horas de la situación de secuestro.\n",
        "* `ndays`: Número de días de la situación de secuestro.\n",
        "* `hostkidoutcome_txt`: Indica que sucedió con las personas secuestradas una vez resuelto el incidente.\n",
        "* `nreleased`: Indica el número de personas secuestradas o tomadas como rehén que lograron escapar.\n",
        "* `propdamage`: Clasifica el daño a propiedades durante el incidente, con `na` en caso de no conocerse, `0` cuando no hay daños, `1` con daños menores, `2` daños mayores, y `3` daños catastróficos.\n",
        "* `INT_LOG`: Indica con `1` si es un incidente “Internacionalmente logístico”, o con `0` si no lo es. La variable describe si los atacantes cruzaron una frontera para llevar a cabo el ataque.\n",
        "* `INT_IDEO`: Indica con `1` si es un incidente “Internacionalmente Ideológico”, o con `0` si no lo es. La variable describe si los atacantes y los objetivos son de distintas nacionalidades.\n",
        "* `related`: Lista de incidentes relacionados.\n",
        "* `n_related`: Número de incidentes relacionados."
      ],
      "metadata": {
        "id": "IgNEp19DtuY5"
      }
    },
    {
      "cell_type": "markdown",
      "source": [
        "##Exploración de datos"
      ],
      "metadata": {
        "id": "KTbtdl1XolPs"
      }
    },
    {
      "cell_type": "code",
      "source": [
        "import pandas as pd\n",
        "df=pd.read_csv('out.csv', low_memory=False)\n",
        "#Numero de filas y columnas\n",
        "#cantidad de instancias y atributos del Dataframe\n",
        "print(\"El dataFrame posee: \",df.shape[0],\" instancias y \",df.shape[1],\" Atributos\")"
      ],
      "metadata": {
        "id": "EMxN-VLBu4z7",
        "colab": {
          "base_uri": "https://localhost:8080/"
        },
        "outputId": "9ab7896c-a5ce-4cc5-c83a-2450d6ec0693"
      },
      "execution_count": null,
      "outputs": [
        {
          "output_type": "stream",
          "name": "stdout",
          "text": [
            "El dataFrame posee:  115997  instancias y  61  Atributos\n"
          ]
        }
      ]
    },
    {
      "cell_type": "markdown",
      "source": [
        "Para una visualización más clara, se subdividió los atributos en dos grupos, de tal forma de ver sus medidas de tendencia central más cómodas."
      ],
      "metadata": {
        "id": "6owMYaxA0zPD"
      }
    },
    {
      "cell_type": "code",
      "source": [
        "#Medidas de tendencia central para atributos\n",
        "NumsColumns=[df.columns.values[x] for x in range(0,len(df.dtypes)) if df.dtypes[x]!='object']\n",
        "df.describe().iloc[:,:13][[x for x in NumsColumns[:13] if x not in ['eventid','latitude','longitude']]]"
      ],
      "metadata": {
        "id": "3Q5hhP0UvOkx",
        "colab": {
          "base_uri": "https://localhost:8080/",
          "height": 364
        },
        "outputId": "601d17a3-ea2d-450f-f703-91290e44340e"
      },
      "execution_count": null,
      "outputs": [
        {
          "output_type": "execute_result",
          "data": {
            "text/plain": [
              "            duration    specificity       vicinity          crit1  \\\n",
              "count  115997.000000  115997.000000  115964.000000  115997.000000   \n",
              "mean        2.313353       1.457719       0.078197       0.987491   \n",
              "std        27.391763       0.900207       0.268482       0.111142   \n",
              "min         1.000000       1.000000       0.000000       0.000000   \n",
              "25%         1.000000       1.000000       0.000000       1.000000   \n",
              "50%         1.000000       1.000000       0.000000       1.000000   \n",
              "75%         1.000000       1.000000       0.000000       1.000000   \n",
              "max      2677.000000       5.000000       1.000000       1.000000   \n",
              "\n",
              "               crit2        success        suicide          nkill  \\\n",
              "count  115997.000000  115997.000000  115997.000000  111598.000000   \n",
              "mean        0.994508       0.871333       0.051398       2.378430   \n",
              "std         0.073901       0.334833       0.220809      11.094821   \n",
              "min         0.000000       0.000000       0.000000       0.000000   \n",
              "25%         1.000000       1.000000       0.000000       0.000000   \n",
              "50%         1.000000       1.000000       0.000000       1.000000   \n",
              "75%         1.000000       1.000000       0.000000       2.000000   \n",
              "max         1.000000       1.000000       1.000000    1385.000000   \n",
              "\n",
              "            nkillter         nwound  \n",
              "count  113728.000000  107652.000000  \n",
              "mean        0.378825       3.791606  \n",
              "std         3.557791      50.664405  \n",
              "min         0.000000       0.000000  \n",
              "25%         0.000000       0.000000  \n",
              "50%         0.000000       0.000000  \n",
              "75%         0.000000       3.000000  \n",
              "max       500.000000   10878.000000  "
            ],
            "text/html": [
              "\n",
              "  <div id=\"df-c5f18976-1145-44a6-a568-047236b4b1c4\">\n",
              "    <div class=\"colab-df-container\">\n",
              "      <div>\n",
              "<style scoped>\n",
              "    .dataframe tbody tr th:only-of-type {\n",
              "        vertical-align: middle;\n",
              "    }\n",
              "\n",
              "    .dataframe tbody tr th {\n",
              "        vertical-align: top;\n",
              "    }\n",
              "\n",
              "    .dataframe thead th {\n",
              "        text-align: right;\n",
              "    }\n",
              "</style>\n",
              "<table border=\"1\" class=\"dataframe\">\n",
              "  <thead>\n",
              "    <tr style=\"text-align: right;\">\n",
              "      <th></th>\n",
              "      <th>duration</th>\n",
              "      <th>specificity</th>\n",
              "      <th>vicinity</th>\n",
              "      <th>crit1</th>\n",
              "      <th>crit2</th>\n",
              "      <th>success</th>\n",
              "      <th>suicide</th>\n",
              "      <th>nkill</th>\n",
              "      <th>nkillter</th>\n",
              "      <th>nwound</th>\n",
              "    </tr>\n",
              "  </thead>\n",
              "  <tbody>\n",
              "    <tr>\n",
              "      <th>count</th>\n",
              "      <td>115997.000000</td>\n",
              "      <td>115997.000000</td>\n",
              "      <td>115964.000000</td>\n",
              "      <td>115997.000000</td>\n",
              "      <td>115997.000000</td>\n",
              "      <td>115997.000000</td>\n",
              "      <td>115997.000000</td>\n",
              "      <td>111598.000000</td>\n",
              "      <td>113728.000000</td>\n",
              "      <td>107652.000000</td>\n",
              "    </tr>\n",
              "    <tr>\n",
              "      <th>mean</th>\n",
              "      <td>2.313353</td>\n",
              "      <td>1.457719</td>\n",
              "      <td>0.078197</td>\n",
              "      <td>0.987491</td>\n",
              "      <td>0.994508</td>\n",
              "      <td>0.871333</td>\n",
              "      <td>0.051398</td>\n",
              "      <td>2.378430</td>\n",
              "      <td>0.378825</td>\n",
              "      <td>3.791606</td>\n",
              "    </tr>\n",
              "    <tr>\n",
              "      <th>std</th>\n",
              "      <td>27.391763</td>\n",
              "      <td>0.900207</td>\n",
              "      <td>0.268482</td>\n",
              "      <td>0.111142</td>\n",
              "      <td>0.073901</td>\n",
              "      <td>0.334833</td>\n",
              "      <td>0.220809</td>\n",
              "      <td>11.094821</td>\n",
              "      <td>3.557791</td>\n",
              "      <td>50.664405</td>\n",
              "    </tr>\n",
              "    <tr>\n",
              "      <th>min</th>\n",
              "      <td>1.000000</td>\n",
              "      <td>1.000000</td>\n",
              "      <td>0.000000</td>\n",
              "      <td>0.000000</td>\n",
              "      <td>0.000000</td>\n",
              "      <td>0.000000</td>\n",
              "      <td>0.000000</td>\n",
              "      <td>0.000000</td>\n",
              "      <td>0.000000</td>\n",
              "      <td>0.000000</td>\n",
              "    </tr>\n",
              "    <tr>\n",
              "      <th>25%</th>\n",
              "      <td>1.000000</td>\n",
              "      <td>1.000000</td>\n",
              "      <td>0.000000</td>\n",
              "      <td>1.000000</td>\n",
              "      <td>1.000000</td>\n",
              "      <td>1.000000</td>\n",
              "      <td>0.000000</td>\n",
              "      <td>0.000000</td>\n",
              "      <td>0.000000</td>\n",
              "      <td>0.000000</td>\n",
              "    </tr>\n",
              "    <tr>\n",
              "      <th>50%</th>\n",
              "      <td>1.000000</td>\n",
              "      <td>1.000000</td>\n",
              "      <td>0.000000</td>\n",
              "      <td>1.000000</td>\n",
              "      <td>1.000000</td>\n",
              "      <td>1.000000</td>\n",
              "      <td>0.000000</td>\n",
              "      <td>1.000000</td>\n",
              "      <td>0.000000</td>\n",
              "      <td>0.000000</td>\n",
              "    </tr>\n",
              "    <tr>\n",
              "      <th>75%</th>\n",
              "      <td>1.000000</td>\n",
              "      <td>1.000000</td>\n",
              "      <td>0.000000</td>\n",
              "      <td>1.000000</td>\n",
              "      <td>1.000000</td>\n",
              "      <td>1.000000</td>\n",
              "      <td>0.000000</td>\n",
              "      <td>2.000000</td>\n",
              "      <td>0.000000</td>\n",
              "      <td>3.000000</td>\n",
              "    </tr>\n",
              "    <tr>\n",
              "      <th>max</th>\n",
              "      <td>2677.000000</td>\n",
              "      <td>5.000000</td>\n",
              "      <td>1.000000</td>\n",
              "      <td>1.000000</td>\n",
              "      <td>1.000000</td>\n",
              "      <td>1.000000</td>\n",
              "      <td>1.000000</td>\n",
              "      <td>1385.000000</td>\n",
              "      <td>500.000000</td>\n",
              "      <td>10878.000000</td>\n",
              "    </tr>\n",
              "  </tbody>\n",
              "</table>\n",
              "</div>\n",
              "      <button class=\"colab-df-convert\" onclick=\"convertToInteractive('df-c5f18976-1145-44a6-a568-047236b4b1c4')\"\n",
              "              title=\"Convert this dataframe to an interactive table.\"\n",
              "              style=\"display:none;\">\n",
              "        \n",
              "  <svg xmlns=\"http://www.w3.org/2000/svg\" height=\"24px\"viewBox=\"0 0 24 24\"\n",
              "       width=\"24px\">\n",
              "    <path d=\"M0 0h24v24H0V0z\" fill=\"none\"/>\n",
              "    <path d=\"M18.56 5.44l.94 2.06.94-2.06 2.06-.94-2.06-.94-.94-2.06-.94 2.06-2.06.94zm-11 1L8.5 8.5l.94-2.06 2.06-.94-2.06-.94L8.5 2.5l-.94 2.06-2.06.94zm10 10l.94 2.06.94-2.06 2.06-.94-2.06-.94-.94-2.06-.94 2.06-2.06.94z\"/><path d=\"M17.41 7.96l-1.37-1.37c-.4-.4-.92-.59-1.43-.59-.52 0-1.04.2-1.43.59L10.3 9.45l-7.72 7.72c-.78.78-.78 2.05 0 2.83L4 21.41c.39.39.9.59 1.41.59.51 0 1.02-.2 1.41-.59l7.78-7.78 2.81-2.81c.8-.78.8-2.07 0-2.86zM5.41 20L4 18.59l7.72-7.72 1.47 1.35L5.41 20z\"/>\n",
              "  </svg>\n",
              "      </button>\n",
              "      \n",
              "  <style>\n",
              "    .colab-df-container {\n",
              "      display:flex;\n",
              "      flex-wrap:wrap;\n",
              "      gap: 12px;\n",
              "    }\n",
              "\n",
              "    .colab-df-convert {\n",
              "      background-color: #E8F0FE;\n",
              "      border: none;\n",
              "      border-radius: 50%;\n",
              "      cursor: pointer;\n",
              "      display: none;\n",
              "      fill: #1967D2;\n",
              "      height: 32px;\n",
              "      padding: 0 0 0 0;\n",
              "      width: 32px;\n",
              "    }\n",
              "\n",
              "    .colab-df-convert:hover {\n",
              "      background-color: #E2EBFA;\n",
              "      box-shadow: 0px 1px 2px rgba(60, 64, 67, 0.3), 0px 1px 3px 1px rgba(60, 64, 67, 0.15);\n",
              "      fill: #174EA6;\n",
              "    }\n",
              "\n",
              "    [theme=dark] .colab-df-convert {\n",
              "      background-color: #3B4455;\n",
              "      fill: #D2E3FC;\n",
              "    }\n",
              "\n",
              "    [theme=dark] .colab-df-convert:hover {\n",
              "      background-color: #434B5C;\n",
              "      box-shadow: 0px 1px 3px 1px rgba(0, 0, 0, 0.15);\n",
              "      filter: drop-shadow(0px 1px 2px rgba(0, 0, 0, 0.3));\n",
              "      fill: #FFFFFF;\n",
              "    }\n",
              "  </style>\n",
              "\n",
              "      <script>\n",
              "        const buttonEl =\n",
              "          document.querySelector('#df-c5f18976-1145-44a6-a568-047236b4b1c4 button.colab-df-convert');\n",
              "        buttonEl.style.display =\n",
              "          google.colab.kernel.accessAllowed ? 'block' : 'none';\n",
              "\n",
              "        async function convertToInteractive(key) {\n",
              "          const element = document.querySelector('#df-c5f18976-1145-44a6-a568-047236b4b1c4');\n",
              "          const dataTable =\n",
              "            await google.colab.kernel.invokeFunction('convertToInteractive',\n",
              "                                                     [key], {});\n",
              "          if (!dataTable) return;\n",
              "\n",
              "          const docLinkHtml = 'Like what you see? Visit the ' +\n",
              "            '<a target=\"_blank\" href=https://colab.research.google.com/notebooks/data_table.ipynb>data table notebook</a>'\n",
              "            + ' to learn more about interactive tables.';\n",
              "          element.innerHTML = '';\n",
              "          dataTable['output_type'] = 'display_data';\n",
              "          await google.colab.output.renderOutput(dataTable, element);\n",
              "          const docLink = document.createElement('div');\n",
              "          docLink.innerHTML = docLinkHtml;\n",
              "          element.appendChild(docLink);\n",
              "        }\n",
              "      </script>\n",
              "    </div>\n",
              "  </div>\n",
              "  "
            ]
          },
          "metadata": {},
          "execution_count": 5
        }
      ]
    },
    {
      "cell_type": "code",
      "source": [
        "df.describe().iloc[:,14:][[x for x in NumsColumns[14:] if x not in ['eventid','latitude','longitude']]]"
      ],
      "metadata": {
        "id": "anFBRTXKvU2v",
        "colab": {
          "base_uri": "https://localhost:8080/",
          "height": 364
        },
        "outputId": "1e5a608a-7f80-495d-e243-407598779388"
      },
      "execution_count": null,
      "outputs": [
        {
          "output_type": "execute_result",
          "data": {
            "text/plain": [
              "         perpcapture      ishostkid      nhostkid      nhours        ndays  \\\n",
              "count  111804.000000  115594.000000  10245.000000  508.000000  2976.000000   \n",
              "mean        0.038004       0.094270     10.562616    4.699311    48.349462   \n",
              "std         0.191207       0.292205     81.131921    5.487413   158.852977   \n",
              "min         0.000000       0.000000      0.000000    0.000000     0.000000   \n",
              "25%         0.000000       0.000000      1.000000    1.000000     2.000000   \n",
              "50%         0.000000       0.000000      2.000000    2.000000     5.000000   \n",
              "75%         0.000000       0.000000      5.000000    6.000000    21.000000   \n",
              "max         1.000000       1.000000   5350.000000   24.000000  2676.000000   \n",
              "\n",
              "         nreleased    propdamage       INT_LOG      INT_IDEO      n_related  \n",
              "count  6433.000000  84549.000000  50068.000000  50048.000000  115997.000000  \n",
              "mean      6.633919      0.441484      0.074978      0.287964       0.973258  \n",
              "std      53.744954      0.511237      0.263359      0.452819       4.128823  \n",
              "min       0.000000      0.000000      0.000000      0.000000       0.000000  \n",
              "25%       0.000000      0.000000      0.000000      0.000000       0.000000  \n",
              "50%       1.000000      0.000000      0.000000      0.000000       0.000000  \n",
              "75%       3.000000      1.000000      0.000000      1.000000       0.000000  \n",
              "max    2958.000000      3.000000      1.000000      1.000000      80.000000  "
            ],
            "text/html": [
              "\n",
              "  <div id=\"df-ab8b41c6-2d35-4d14-8981-a75708c2d3c0\">\n",
              "    <div class=\"colab-df-container\">\n",
              "      <div>\n",
              "<style scoped>\n",
              "    .dataframe tbody tr th:only-of-type {\n",
              "        vertical-align: middle;\n",
              "    }\n",
              "\n",
              "    .dataframe tbody tr th {\n",
              "        vertical-align: top;\n",
              "    }\n",
              "\n",
              "    .dataframe thead th {\n",
              "        text-align: right;\n",
              "    }\n",
              "</style>\n",
              "<table border=\"1\" class=\"dataframe\">\n",
              "  <thead>\n",
              "    <tr style=\"text-align: right;\">\n",
              "      <th></th>\n",
              "      <th>perpcapture</th>\n",
              "      <th>ishostkid</th>\n",
              "      <th>nhostkid</th>\n",
              "      <th>nhours</th>\n",
              "      <th>ndays</th>\n",
              "      <th>nreleased</th>\n",
              "      <th>propdamage</th>\n",
              "      <th>INT_LOG</th>\n",
              "      <th>INT_IDEO</th>\n",
              "      <th>n_related</th>\n",
              "    </tr>\n",
              "  </thead>\n",
              "  <tbody>\n",
              "    <tr>\n",
              "      <th>count</th>\n",
              "      <td>111804.000000</td>\n",
              "      <td>115594.000000</td>\n",
              "      <td>10245.000000</td>\n",
              "      <td>508.000000</td>\n",
              "      <td>2976.000000</td>\n",
              "      <td>6433.000000</td>\n",
              "      <td>84549.000000</td>\n",
              "      <td>50068.000000</td>\n",
              "      <td>50048.000000</td>\n",
              "      <td>115997.000000</td>\n",
              "    </tr>\n",
              "    <tr>\n",
              "      <th>mean</th>\n",
              "      <td>0.038004</td>\n",
              "      <td>0.094270</td>\n",
              "      <td>10.562616</td>\n",
              "      <td>4.699311</td>\n",
              "      <td>48.349462</td>\n",
              "      <td>6.633919</td>\n",
              "      <td>0.441484</td>\n",
              "      <td>0.074978</td>\n",
              "      <td>0.287964</td>\n",
              "      <td>0.973258</td>\n",
              "    </tr>\n",
              "    <tr>\n",
              "      <th>std</th>\n",
              "      <td>0.191207</td>\n",
              "      <td>0.292205</td>\n",
              "      <td>81.131921</td>\n",
              "      <td>5.487413</td>\n",
              "      <td>158.852977</td>\n",
              "      <td>53.744954</td>\n",
              "      <td>0.511237</td>\n",
              "      <td>0.263359</td>\n",
              "      <td>0.452819</td>\n",
              "      <td>4.128823</td>\n",
              "    </tr>\n",
              "    <tr>\n",
              "      <th>min</th>\n",
              "      <td>0.000000</td>\n",
              "      <td>0.000000</td>\n",
              "      <td>0.000000</td>\n",
              "      <td>0.000000</td>\n",
              "      <td>0.000000</td>\n",
              "      <td>0.000000</td>\n",
              "      <td>0.000000</td>\n",
              "      <td>0.000000</td>\n",
              "      <td>0.000000</td>\n",
              "      <td>0.000000</td>\n",
              "    </tr>\n",
              "    <tr>\n",
              "      <th>25%</th>\n",
              "      <td>0.000000</td>\n",
              "      <td>0.000000</td>\n",
              "      <td>1.000000</td>\n",
              "      <td>1.000000</td>\n",
              "      <td>2.000000</td>\n",
              "      <td>0.000000</td>\n",
              "      <td>0.000000</td>\n",
              "      <td>0.000000</td>\n",
              "      <td>0.000000</td>\n",
              "      <td>0.000000</td>\n",
              "    </tr>\n",
              "    <tr>\n",
              "      <th>50%</th>\n",
              "      <td>0.000000</td>\n",
              "      <td>0.000000</td>\n",
              "      <td>2.000000</td>\n",
              "      <td>2.000000</td>\n",
              "      <td>5.000000</td>\n",
              "      <td>1.000000</td>\n",
              "      <td>0.000000</td>\n",
              "      <td>0.000000</td>\n",
              "      <td>0.000000</td>\n",
              "      <td>0.000000</td>\n",
              "    </tr>\n",
              "    <tr>\n",
              "      <th>75%</th>\n",
              "      <td>0.000000</td>\n",
              "      <td>0.000000</td>\n",
              "      <td>5.000000</td>\n",
              "      <td>6.000000</td>\n",
              "      <td>21.000000</td>\n",
              "      <td>3.000000</td>\n",
              "      <td>1.000000</td>\n",
              "      <td>0.000000</td>\n",
              "      <td>1.000000</td>\n",
              "      <td>0.000000</td>\n",
              "    </tr>\n",
              "    <tr>\n",
              "      <th>max</th>\n",
              "      <td>1.000000</td>\n",
              "      <td>1.000000</td>\n",
              "      <td>5350.000000</td>\n",
              "      <td>24.000000</td>\n",
              "      <td>2676.000000</td>\n",
              "      <td>2958.000000</td>\n",
              "      <td>3.000000</td>\n",
              "      <td>1.000000</td>\n",
              "      <td>1.000000</td>\n",
              "      <td>80.000000</td>\n",
              "    </tr>\n",
              "  </tbody>\n",
              "</table>\n",
              "</div>\n",
              "      <button class=\"colab-df-convert\" onclick=\"convertToInteractive('df-ab8b41c6-2d35-4d14-8981-a75708c2d3c0')\"\n",
              "              title=\"Convert this dataframe to an interactive table.\"\n",
              "              style=\"display:none;\">\n",
              "        \n",
              "  <svg xmlns=\"http://www.w3.org/2000/svg\" height=\"24px\"viewBox=\"0 0 24 24\"\n",
              "       width=\"24px\">\n",
              "    <path d=\"M0 0h24v24H0V0z\" fill=\"none\"/>\n",
              "    <path d=\"M18.56 5.44l.94 2.06.94-2.06 2.06-.94-2.06-.94-.94-2.06-.94 2.06-2.06.94zm-11 1L8.5 8.5l.94-2.06 2.06-.94-2.06-.94L8.5 2.5l-.94 2.06-2.06.94zm10 10l.94 2.06.94-2.06 2.06-.94-2.06-.94-.94-2.06-.94 2.06-2.06.94z\"/><path d=\"M17.41 7.96l-1.37-1.37c-.4-.4-.92-.59-1.43-.59-.52 0-1.04.2-1.43.59L10.3 9.45l-7.72 7.72c-.78.78-.78 2.05 0 2.83L4 21.41c.39.39.9.59 1.41.59.51 0 1.02-.2 1.41-.59l7.78-7.78 2.81-2.81c.8-.78.8-2.07 0-2.86zM5.41 20L4 18.59l7.72-7.72 1.47 1.35L5.41 20z\"/>\n",
              "  </svg>\n",
              "      </button>\n",
              "      \n",
              "  <style>\n",
              "    .colab-df-container {\n",
              "      display:flex;\n",
              "      flex-wrap:wrap;\n",
              "      gap: 12px;\n",
              "    }\n",
              "\n",
              "    .colab-df-convert {\n",
              "      background-color: #E8F0FE;\n",
              "      border: none;\n",
              "      border-radius: 50%;\n",
              "      cursor: pointer;\n",
              "      display: none;\n",
              "      fill: #1967D2;\n",
              "      height: 32px;\n",
              "      padding: 0 0 0 0;\n",
              "      width: 32px;\n",
              "    }\n",
              "\n",
              "    .colab-df-convert:hover {\n",
              "      background-color: #E2EBFA;\n",
              "      box-shadow: 0px 1px 2px rgba(60, 64, 67, 0.3), 0px 1px 3px 1px rgba(60, 64, 67, 0.15);\n",
              "      fill: #174EA6;\n",
              "    }\n",
              "\n",
              "    [theme=dark] .colab-df-convert {\n",
              "      background-color: #3B4455;\n",
              "      fill: #D2E3FC;\n",
              "    }\n",
              "\n",
              "    [theme=dark] .colab-df-convert:hover {\n",
              "      background-color: #434B5C;\n",
              "      box-shadow: 0px 1px 3px 1px rgba(0, 0, 0, 0.15);\n",
              "      filter: drop-shadow(0px 1px 2px rgba(0, 0, 0, 0.3));\n",
              "      fill: #FFFFFF;\n",
              "    }\n",
              "  </style>\n",
              "\n",
              "      <script>\n",
              "        const buttonEl =\n",
              "          document.querySelector('#df-ab8b41c6-2d35-4d14-8981-a75708c2d3c0 button.colab-df-convert');\n",
              "        buttonEl.style.display =\n",
              "          google.colab.kernel.accessAllowed ? 'block' : 'none';\n",
              "\n",
              "        async function convertToInteractive(key) {\n",
              "          const element = document.querySelector('#df-ab8b41c6-2d35-4d14-8981-a75708c2d3c0');\n",
              "          const dataTable =\n",
              "            await google.colab.kernel.invokeFunction('convertToInteractive',\n",
              "                                                     [key], {});\n",
              "          if (!dataTable) return;\n",
              "\n",
              "          const docLinkHtml = 'Like what you see? Visit the ' +\n",
              "            '<a target=\"_blank\" href=https://colab.research.google.com/notebooks/data_table.ipynb>data table notebook</a>'\n",
              "            + ' to learn more about interactive tables.';\n",
              "          element.innerHTML = '';\n",
              "          dataTable['output_type'] = 'display_data';\n",
              "          await google.colab.output.renderOutput(dataTable, element);\n",
              "          const docLink = document.createElement('div');\n",
              "          docLink.innerHTML = docLinkHtml;\n",
              "          element.appendChild(docLink);\n",
              "        }\n",
              "      </script>\n",
              "    </div>\n",
              "  </div>\n",
              "  "
            ]
          },
          "metadata": {},
          "execution_count": 6
        }
      ]
    },
    {
      "cell_type": "markdown",
      "source": [
        "La mediana, es un dato que juega un rol fundamental cuando más adelante, se tengan que hacer estimaciones considerando grandes volumenes de dato, esto pues, a diferencia de la media, es menos propensa a variar en presencia de outliers."
      ],
      "metadata": {
        "id": "tsUcQ-ot1FyA"
      }
    },
    {
      "cell_type": "code",
      "source": [
        "df.median()"
      ],
      "metadata": {
        "id": "GHY2aahFvc43",
        "colab": {
          "base_uri": "https://localhost:8080/"
        },
        "outputId": "b44640e8-caf6-446c-cb2d-af68248dcede"
      },
      "execution_count": null,
      "outputs": [
        {
          "output_type": "stream",
          "name": "stderr",
          "text": [
            "/usr/local/lib/python3.7/dist-packages/ipykernel_launcher.py:1: FutureWarning: Dropping of nuisance columns in DataFrame reductions (with 'numeric_only=None') is deprecated; in a future version this will raise TypeError.  Select only valid columns before calling the reduction.\n",
            "  \"\"\"Entry point for launching an IPython kernel.\n"
          ]
        },
        {
          "output_type": "execute_result",
          "data": {
            "text/plain": [
              "eventid        2.014043e+11\n",
              "duration       1.000000e+00\n",
              "latitude       3.217462e+01\n",
              "longitude      4.468522e+01\n",
              "specificity    1.000000e+00\n",
              "vicinity       0.000000e+00\n",
              "crit1          1.000000e+00\n",
              "crit2          1.000000e+00\n",
              "success        1.000000e+00\n",
              "suicide        0.000000e+00\n",
              "nkill          1.000000e+00\n",
              "nkillter       0.000000e+00\n",
              "nwound         0.000000e+00\n",
              "nwoundte       0.000000e+00\n",
              "perpcapture    0.000000e+00\n",
              "ishostkid      0.000000e+00\n",
              "nhostkid       2.000000e+00\n",
              "nhours         2.000000e+00\n",
              "ndays          5.000000e+00\n",
              "nreleased      1.000000e+00\n",
              "propdamage     0.000000e+00\n",
              "INT_LOG        0.000000e+00\n",
              "INT_IDEO       0.000000e+00\n",
              "n_related      0.000000e+00\n",
              "dtype: float64"
            ]
          },
          "metadata": {},
          "execution_count": 7
        }
      ]
    },
    {
      "cell_type": "markdown",
      "source": [
        "Es importante considerar de los resultados anteriores que no todas las medidas de tendencia central son importantes de estudiar. Por ejemplo, no tiene mayor utilidad saber la media aritmética de la longitud o latitud, pero sí tiene sentido saber que la duración promedio de los atentados terroristas es de 2.3 días aproximadamente, por dicho motivo, se filtraron ciertas columnas a la hora de ver las medidas de tendencia central. \\\\\n"
      ],
      "metadata": {
        "id": "EiKTXfA4u85J"
      }
    },
    {
      "cell_type": "markdown",
      "source": [
        "Otra cosa importante que se exploró fueron la cantidad de Na que existen en el DataFrame. En la limpieza de este se reemplazaron todos los valores en blancos y valores que representaban una falta de información (como -1,-9,-99, na etc) y se transformaron en valores Na. Así, se obtuvieron los siguientes valores"
      ],
      "metadata": {
        "id": "lHNgechTUtun"
      }
    },
    {
      "cell_type": "code",
      "source": [
        "#Cantidad de NA en cada atributo del dataFrame\n",
        "sumNA=df.isna().sum()\n",
        "sumNA"
      ],
      "metadata": {
        "id": "xsrzQDA4Rjzq",
        "colab": {
          "base_uri": "https://localhost:8080/"
        },
        "outputId": "a103855d-4e93-4773-bb91-f4de0a9a38b6"
      },
      "execution_count": null,
      "outputs": [
        {
          "output_type": "execute_result",
          "data": {
            "text/plain": [
              "eventid            0\n",
              "timestamp          0\n",
              "end_date           0\n",
              "duration           0\n",
              "country_txt        0\n",
              "               ...  \n",
              "propdamage     31448\n",
              "INT_LOG        65929\n",
              "INT_IDEO       65949\n",
              "related        96789\n",
              "n_related          0\n",
              "Length: 61, dtype: int64"
            ]
          },
          "metadata": {},
          "execution_count": 8
        }
      ]
    },
    {
      "cell_type": "markdown",
      "source": [
        "Para tener una idea inicial de las relaciones que existen entre los diferentes atributos, se genera la matriz de correlación entre todos los atributos del dataset."
      ],
      "metadata": {
        "id": "ZQ94svQLfRvI"
      }
    },
    {
      "cell_type": "code",
      "source": [
        "Matriz_correlacion=df[[x for x in NumsColumns if x not in ['eventid','latitude','longitude']]].corr()\n",
        "Matriz_correlacion"
      ],
      "metadata": {
        "id": "P53B7wsjRzSR",
        "colab": {
          "base_uri": "https://localhost:8080/",
          "height": 581
        },
        "outputId": "c72dfa5b-c3bc-46fb-bf28-69e1e28102bc"
      },
      "execution_count": null,
      "outputs": [
        {
          "output_type": "execute_result",
          "data": {
            "text/plain": [
              "             duration  specificity  vicinity     crit1     crit2   success  \\\n",
              "duration     1.000000     0.016096  0.008562 -0.003291 -0.002953  0.018332   \n",
              "specificity  0.016096     1.000000 -0.078167  0.016729 -0.003296 -0.010856   \n",
              "vicinity     0.008562    -0.078167  1.000000  0.001557 -0.002255 -0.002677   \n",
              "crit1       -0.003291     0.016729  0.001557  1.000000 -0.008363 -0.012671   \n",
              "crit2       -0.002953    -0.003296 -0.002255 -0.008363  1.000000 -0.014271   \n",
              "success      0.018332    -0.010856 -0.002677 -0.012671 -0.014271  1.000000   \n",
              "suicide     -0.011104    -0.051521 -0.007448  0.023388 -0.014401 -0.017128   \n",
              "nkill       -0.006076     0.000070 -0.002783  0.009444 -0.016175  0.062559   \n",
              "nkillter    -0.004552     0.028793 -0.007357  0.008621 -0.005802 -0.008711   \n",
              "nwound      -0.003035    -0.017767 -0.006245  0.003992 -0.001077  0.025029   \n",
              "nwoundte    -0.002867     0.051943 -0.009675  0.006026 -0.001427 -0.004807   \n",
              "perpcapture -0.000942    -0.036310 -0.008724 -0.018663  0.004318 -0.095192   \n",
              "ishostkid    0.147459     0.080078  0.023601 -0.017324 -0.010470  0.121220   \n",
              "nhostkid    -0.003526    -0.009674 -0.007193  0.012947  0.003795  0.003608   \n",
              "nhours      -0.034181     0.060130  0.015390 -0.011427  0.013754  0.059399   \n",
              "ndays        0.870349    -0.000218  0.027441 -0.005012 -0.036861  0.007813   \n",
              "nreleased   -0.007852    -0.014513  0.001265  0.012296  0.010069  0.002713   \n",
              "propdamage  -0.037079    -0.061242 -0.012206  0.015311  0.017833  0.273939   \n",
              "INT_LOG      0.005605    -0.032690  0.018209 -0.012563  0.004858 -0.015723   \n",
              "INT_IDEO     0.043591    -0.056776  0.000090  0.009453 -0.012837 -0.020511   \n",
              "n_related   -0.010182     0.015821 -0.025350  0.021627  0.007232  0.022112   \n",
              "\n",
              "              suicide     nkill  nkillter    nwound  ...  perpcapture  \\\n",
              "duration    -0.011104 -0.006076 -0.004552 -0.003035  ...    -0.000942   \n",
              "specificity -0.051521  0.000070  0.028793 -0.017767  ...    -0.036310   \n",
              "vicinity    -0.007448 -0.002783 -0.007357 -0.006245  ...    -0.008724   \n",
              "crit1        0.023388  0.009444  0.008621  0.003992  ...    -0.018663   \n",
              "crit2       -0.014401 -0.016175 -0.005802 -0.001077  ...     0.004318   \n",
              "success     -0.017128  0.062559 -0.008711  0.025029  ...    -0.095192   \n",
              "suicide      1.000000  0.169723  0.103277  0.092789  ...     0.046724   \n",
              "nkill        0.169723  1.000000  0.400462  0.704749  ...    -0.007409   \n",
              "nkillter     0.103277  0.400462  1.000000  0.040964  ...    -0.001780   \n",
              "nwound       0.092789  0.704749  0.040964  1.000000  ...     0.007339   \n",
              "nwoundte    -0.003045  0.178657  0.703759  0.026898  ...     0.007398   \n",
              "perpcapture  0.046724 -0.007409 -0.001780  0.007339  ...     1.000000   \n",
              "ishostkid   -0.061951  0.039233 -0.014525  0.003334  ...    -0.021517   \n",
              "nhostkid     0.059720  0.399041  0.123156  0.053507  ...     0.018033   \n",
              "nhours      -0.011703 -0.039176  0.125693 -0.042451  ...     0.039038   \n",
              "ndays       -0.013117 -0.019443 -0.017639 -0.004353  ...     0.002890   \n",
              "nreleased    0.052622  0.359714  0.192119  0.026637  ...     0.043251   \n",
              "propdamage   0.048079  0.056827 -0.034722  0.053926  ...    -0.041761   \n",
              "INT_LOG      0.012178 -0.005736 -0.008599  0.000206  ...     0.043034   \n",
              "INT_IDEO     0.132070  0.059058  0.024013  0.024954  ...     0.004394   \n",
              "n_related   -0.013972 -0.006917 -0.005630  0.002485  ...    -0.005513   \n",
              "\n",
              "             ishostkid  nhostkid    nhours     ndays  nreleased  propdamage  \\\n",
              "duration      0.147459 -0.003526 -0.034181  0.870349  -0.007852   -0.037079   \n",
              "specificity   0.080078 -0.009674  0.060130 -0.000218  -0.014513   -0.061242   \n",
              "vicinity      0.023601 -0.007193  0.015390  0.027441   0.001265   -0.012206   \n",
              "crit1        -0.017324  0.012947 -0.011427 -0.005012   0.012296    0.015311   \n",
              "crit2        -0.010470  0.003795  0.013754 -0.036861   0.010069    0.017833   \n",
              "success       0.121220  0.003608  0.059399  0.007813   0.002713    0.273939   \n",
              "suicide      -0.061951  0.059720 -0.011703 -0.013117   0.052622    0.048079   \n",
              "nkill         0.039233  0.399041 -0.039176 -0.019443   0.359714    0.056827   \n",
              "nkillter     -0.014525  0.123156  0.125693 -0.017639   0.192119   -0.034722   \n",
              "nwound        0.003334  0.053507 -0.042451 -0.004353   0.026637    0.053926   \n",
              "nwoundte     -0.012844  0.007820  0.022936 -0.006362   0.015359   -0.036470   \n",
              "perpcapture  -0.021517  0.018033  0.039038  0.002890   0.043251   -0.041761   \n",
              "ishostkid     1.000000  0.002574       NaN       NaN  -0.001060   -0.191959   \n",
              "nhostkid      0.002574  1.000000  0.099172 -0.020154   0.946671    0.030878   \n",
              "nhours             NaN  0.099172  1.000000 -0.281461   0.116004   -0.082228   \n",
              "ndays              NaN -0.020154 -0.281461  1.000000  -0.019504   -0.001988   \n",
              "nreleased    -0.001060  0.946671  0.116004 -0.019504   1.000000    0.052892   \n",
              "propdamage   -0.191959  0.030878 -0.082228 -0.001988   0.052892    1.000000   \n",
              "INT_LOG       0.017457  0.013230  0.033286  0.064448   0.023844   -0.001931   \n",
              "INT_IDEO      0.041371  0.066215  0.004351  0.201493   0.048932   -0.032246   \n",
              "n_related    -0.033410  0.023602 -0.056440 -0.025210   0.006967    0.076715   \n",
              "\n",
              "              INT_LOG  INT_IDEO  n_related  \n",
              "duration     0.005605  0.043591  -0.010182  \n",
              "specificity -0.032690 -0.056776   0.015821  \n",
              "vicinity     0.018209  0.000090  -0.025350  \n",
              "crit1       -0.012563  0.009453   0.021627  \n",
              "crit2        0.004858 -0.012837   0.007232  \n",
              "success     -0.015723 -0.020511   0.022112  \n",
              "suicide      0.012178  0.132070  -0.013972  \n",
              "nkill       -0.005736  0.059058  -0.006917  \n",
              "nkillter    -0.008599  0.024013  -0.005630  \n",
              "nwound       0.000206  0.024954   0.002485  \n",
              "nwoundte    -0.023715 -0.035738  -0.006646  \n",
              "perpcapture  0.043034  0.004394  -0.005513  \n",
              "ishostkid    0.017457  0.041371  -0.033410  \n",
              "nhostkid     0.013230  0.066215   0.023602  \n",
              "nhours       0.033286  0.004351  -0.056440  \n",
              "ndays        0.064448  0.201493  -0.025210  \n",
              "nreleased    0.023844  0.048932   0.006967  \n",
              "propdamage  -0.001931 -0.032246   0.076715  \n",
              "INT_LOG      1.000000  0.332459  -0.039029  \n",
              "INT_IDEO     0.332459  1.000000   0.021361  \n",
              "n_related   -0.039029  0.021361   1.000000  \n",
              "\n",
              "[21 rows x 21 columns]"
            ],
            "text/html": [
              "\n",
              "  <div id=\"df-6833fbaa-c621-4827-8e09-a1e4bbef476a\">\n",
              "    <div class=\"colab-df-container\">\n",
              "      <div>\n",
              "<style scoped>\n",
              "    .dataframe tbody tr th:only-of-type {\n",
              "        vertical-align: middle;\n",
              "    }\n",
              "\n",
              "    .dataframe tbody tr th {\n",
              "        vertical-align: top;\n",
              "    }\n",
              "\n",
              "    .dataframe thead th {\n",
              "        text-align: right;\n",
              "    }\n",
              "</style>\n",
              "<table border=\"1\" class=\"dataframe\">\n",
              "  <thead>\n",
              "    <tr style=\"text-align: right;\">\n",
              "      <th></th>\n",
              "      <th>duration</th>\n",
              "      <th>specificity</th>\n",
              "      <th>vicinity</th>\n",
              "      <th>crit1</th>\n",
              "      <th>crit2</th>\n",
              "      <th>success</th>\n",
              "      <th>suicide</th>\n",
              "      <th>nkill</th>\n",
              "      <th>nkillter</th>\n",
              "      <th>nwound</th>\n",
              "      <th>...</th>\n",
              "      <th>perpcapture</th>\n",
              "      <th>ishostkid</th>\n",
              "      <th>nhostkid</th>\n",
              "      <th>nhours</th>\n",
              "      <th>ndays</th>\n",
              "      <th>nreleased</th>\n",
              "      <th>propdamage</th>\n",
              "      <th>INT_LOG</th>\n",
              "      <th>INT_IDEO</th>\n",
              "      <th>n_related</th>\n",
              "    </tr>\n",
              "  </thead>\n",
              "  <tbody>\n",
              "    <tr>\n",
              "      <th>duration</th>\n",
              "      <td>1.000000</td>\n",
              "      <td>0.016096</td>\n",
              "      <td>0.008562</td>\n",
              "      <td>-0.003291</td>\n",
              "      <td>-0.002953</td>\n",
              "      <td>0.018332</td>\n",
              "      <td>-0.011104</td>\n",
              "      <td>-0.006076</td>\n",
              "      <td>-0.004552</td>\n",
              "      <td>-0.003035</td>\n",
              "      <td>...</td>\n",
              "      <td>-0.000942</td>\n",
              "      <td>0.147459</td>\n",
              "      <td>-0.003526</td>\n",
              "      <td>-0.034181</td>\n",
              "      <td>0.870349</td>\n",
              "      <td>-0.007852</td>\n",
              "      <td>-0.037079</td>\n",
              "      <td>0.005605</td>\n",
              "      <td>0.043591</td>\n",
              "      <td>-0.010182</td>\n",
              "    </tr>\n",
              "    <tr>\n",
              "      <th>specificity</th>\n",
              "      <td>0.016096</td>\n",
              "      <td>1.000000</td>\n",
              "      <td>-0.078167</td>\n",
              "      <td>0.016729</td>\n",
              "      <td>-0.003296</td>\n",
              "      <td>-0.010856</td>\n",
              "      <td>-0.051521</td>\n",
              "      <td>0.000070</td>\n",
              "      <td>0.028793</td>\n",
              "      <td>-0.017767</td>\n",
              "      <td>...</td>\n",
              "      <td>-0.036310</td>\n",
              "      <td>0.080078</td>\n",
              "      <td>-0.009674</td>\n",
              "      <td>0.060130</td>\n",
              "      <td>-0.000218</td>\n",
              "      <td>-0.014513</td>\n",
              "      <td>-0.061242</td>\n",
              "      <td>-0.032690</td>\n",
              "      <td>-0.056776</td>\n",
              "      <td>0.015821</td>\n",
              "    </tr>\n",
              "    <tr>\n",
              "      <th>vicinity</th>\n",
              "      <td>0.008562</td>\n",
              "      <td>-0.078167</td>\n",
              "      <td>1.000000</td>\n",
              "      <td>0.001557</td>\n",
              "      <td>-0.002255</td>\n",
              "      <td>-0.002677</td>\n",
              "      <td>-0.007448</td>\n",
              "      <td>-0.002783</td>\n",
              "      <td>-0.007357</td>\n",
              "      <td>-0.006245</td>\n",
              "      <td>...</td>\n",
              "      <td>-0.008724</td>\n",
              "      <td>0.023601</td>\n",
              "      <td>-0.007193</td>\n",
              "      <td>0.015390</td>\n",
              "      <td>0.027441</td>\n",
              "      <td>0.001265</td>\n",
              "      <td>-0.012206</td>\n",
              "      <td>0.018209</td>\n",
              "      <td>0.000090</td>\n",
              "      <td>-0.025350</td>\n",
              "    </tr>\n",
              "    <tr>\n",
              "      <th>crit1</th>\n",
              "      <td>-0.003291</td>\n",
              "      <td>0.016729</td>\n",
              "      <td>0.001557</td>\n",
              "      <td>1.000000</td>\n",
              "      <td>-0.008363</td>\n",
              "      <td>-0.012671</td>\n",
              "      <td>0.023388</td>\n",
              "      <td>0.009444</td>\n",
              "      <td>0.008621</td>\n",
              "      <td>0.003992</td>\n",
              "      <td>...</td>\n",
              "      <td>-0.018663</td>\n",
              "      <td>-0.017324</td>\n",
              "      <td>0.012947</td>\n",
              "      <td>-0.011427</td>\n",
              "      <td>-0.005012</td>\n",
              "      <td>0.012296</td>\n",
              "      <td>0.015311</td>\n",
              "      <td>-0.012563</td>\n",
              "      <td>0.009453</td>\n",
              "      <td>0.021627</td>\n",
              "    </tr>\n",
              "    <tr>\n",
              "      <th>crit2</th>\n",
              "      <td>-0.002953</td>\n",
              "      <td>-0.003296</td>\n",
              "      <td>-0.002255</td>\n",
              "      <td>-0.008363</td>\n",
              "      <td>1.000000</td>\n",
              "      <td>-0.014271</td>\n",
              "      <td>-0.014401</td>\n",
              "      <td>-0.016175</td>\n",
              "      <td>-0.005802</td>\n",
              "      <td>-0.001077</td>\n",
              "      <td>...</td>\n",
              "      <td>0.004318</td>\n",
              "      <td>-0.010470</td>\n",
              "      <td>0.003795</td>\n",
              "      <td>0.013754</td>\n",
              "      <td>-0.036861</td>\n",
              "      <td>0.010069</td>\n",
              "      <td>0.017833</td>\n",
              "      <td>0.004858</td>\n",
              "      <td>-0.012837</td>\n",
              "      <td>0.007232</td>\n",
              "    </tr>\n",
              "    <tr>\n",
              "      <th>success</th>\n",
              "      <td>0.018332</td>\n",
              "      <td>-0.010856</td>\n",
              "      <td>-0.002677</td>\n",
              "      <td>-0.012671</td>\n",
              "      <td>-0.014271</td>\n",
              "      <td>1.000000</td>\n",
              "      <td>-0.017128</td>\n",
              "      <td>0.062559</td>\n",
              "      <td>-0.008711</td>\n",
              "      <td>0.025029</td>\n",
              "      <td>...</td>\n",
              "      <td>-0.095192</td>\n",
              "      <td>0.121220</td>\n",
              "      <td>0.003608</td>\n",
              "      <td>0.059399</td>\n",
              "      <td>0.007813</td>\n",
              "      <td>0.002713</td>\n",
              "      <td>0.273939</td>\n",
              "      <td>-0.015723</td>\n",
              "      <td>-0.020511</td>\n",
              "      <td>0.022112</td>\n",
              "    </tr>\n",
              "    <tr>\n",
              "      <th>suicide</th>\n",
              "      <td>-0.011104</td>\n",
              "      <td>-0.051521</td>\n",
              "      <td>-0.007448</td>\n",
              "      <td>0.023388</td>\n",
              "      <td>-0.014401</td>\n",
              "      <td>-0.017128</td>\n",
              "      <td>1.000000</td>\n",
              "      <td>0.169723</td>\n",
              "      <td>0.103277</td>\n",
              "      <td>0.092789</td>\n",
              "      <td>...</td>\n",
              "      <td>0.046724</td>\n",
              "      <td>-0.061951</td>\n",
              "      <td>0.059720</td>\n",
              "      <td>-0.011703</td>\n",
              "      <td>-0.013117</td>\n",
              "      <td>0.052622</td>\n",
              "      <td>0.048079</td>\n",
              "      <td>0.012178</td>\n",
              "      <td>0.132070</td>\n",
              "      <td>-0.013972</td>\n",
              "    </tr>\n",
              "    <tr>\n",
              "      <th>nkill</th>\n",
              "      <td>-0.006076</td>\n",
              "      <td>0.000070</td>\n",
              "      <td>-0.002783</td>\n",
              "      <td>0.009444</td>\n",
              "      <td>-0.016175</td>\n",
              "      <td>0.062559</td>\n",
              "      <td>0.169723</td>\n",
              "      <td>1.000000</td>\n",
              "      <td>0.400462</td>\n",
              "      <td>0.704749</td>\n",
              "      <td>...</td>\n",
              "      <td>-0.007409</td>\n",
              "      <td>0.039233</td>\n",
              "      <td>0.399041</td>\n",
              "      <td>-0.039176</td>\n",
              "      <td>-0.019443</td>\n",
              "      <td>0.359714</td>\n",
              "      <td>0.056827</td>\n",
              "      <td>-0.005736</td>\n",
              "      <td>0.059058</td>\n",
              "      <td>-0.006917</td>\n",
              "    </tr>\n",
              "    <tr>\n",
              "      <th>nkillter</th>\n",
              "      <td>-0.004552</td>\n",
              "      <td>0.028793</td>\n",
              "      <td>-0.007357</td>\n",
              "      <td>0.008621</td>\n",
              "      <td>-0.005802</td>\n",
              "      <td>-0.008711</td>\n",
              "      <td>0.103277</td>\n",
              "      <td>0.400462</td>\n",
              "      <td>1.000000</td>\n",
              "      <td>0.040964</td>\n",
              "      <td>...</td>\n",
              "      <td>-0.001780</td>\n",
              "      <td>-0.014525</td>\n",
              "      <td>0.123156</td>\n",
              "      <td>0.125693</td>\n",
              "      <td>-0.017639</td>\n",
              "      <td>0.192119</td>\n",
              "      <td>-0.034722</td>\n",
              "      <td>-0.008599</td>\n",
              "      <td>0.024013</td>\n",
              "      <td>-0.005630</td>\n",
              "    </tr>\n",
              "    <tr>\n",
              "      <th>nwound</th>\n",
              "      <td>-0.003035</td>\n",
              "      <td>-0.017767</td>\n",
              "      <td>-0.006245</td>\n",
              "      <td>0.003992</td>\n",
              "      <td>-0.001077</td>\n",
              "      <td>0.025029</td>\n",
              "      <td>0.092789</td>\n",
              "      <td>0.704749</td>\n",
              "      <td>0.040964</td>\n",
              "      <td>1.000000</td>\n",
              "      <td>...</td>\n",
              "      <td>0.007339</td>\n",
              "      <td>0.003334</td>\n",
              "      <td>0.053507</td>\n",
              "      <td>-0.042451</td>\n",
              "      <td>-0.004353</td>\n",
              "      <td>0.026637</td>\n",
              "      <td>0.053926</td>\n",
              "      <td>0.000206</td>\n",
              "      <td>0.024954</td>\n",
              "      <td>0.002485</td>\n",
              "    </tr>\n",
              "    <tr>\n",
              "      <th>nwoundte</th>\n",
              "      <td>-0.002867</td>\n",
              "      <td>0.051943</td>\n",
              "      <td>-0.009675</td>\n",
              "      <td>0.006026</td>\n",
              "      <td>-0.001427</td>\n",
              "      <td>-0.004807</td>\n",
              "      <td>-0.003045</td>\n",
              "      <td>0.178657</td>\n",
              "      <td>0.703759</td>\n",
              "      <td>0.026898</td>\n",
              "      <td>...</td>\n",
              "      <td>0.007398</td>\n",
              "      <td>-0.012844</td>\n",
              "      <td>0.007820</td>\n",
              "      <td>0.022936</td>\n",
              "      <td>-0.006362</td>\n",
              "      <td>0.015359</td>\n",
              "      <td>-0.036470</td>\n",
              "      <td>-0.023715</td>\n",
              "      <td>-0.035738</td>\n",
              "      <td>-0.006646</td>\n",
              "    </tr>\n",
              "    <tr>\n",
              "      <th>perpcapture</th>\n",
              "      <td>-0.000942</td>\n",
              "      <td>-0.036310</td>\n",
              "      <td>-0.008724</td>\n",
              "      <td>-0.018663</td>\n",
              "      <td>0.004318</td>\n",
              "      <td>-0.095192</td>\n",
              "      <td>0.046724</td>\n",
              "      <td>-0.007409</td>\n",
              "      <td>-0.001780</td>\n",
              "      <td>0.007339</td>\n",
              "      <td>...</td>\n",
              "      <td>1.000000</td>\n",
              "      <td>-0.021517</td>\n",
              "      <td>0.018033</td>\n",
              "      <td>0.039038</td>\n",
              "      <td>0.002890</td>\n",
              "      <td>0.043251</td>\n",
              "      <td>-0.041761</td>\n",
              "      <td>0.043034</td>\n",
              "      <td>0.004394</td>\n",
              "      <td>-0.005513</td>\n",
              "    </tr>\n",
              "    <tr>\n",
              "      <th>ishostkid</th>\n",
              "      <td>0.147459</td>\n",
              "      <td>0.080078</td>\n",
              "      <td>0.023601</td>\n",
              "      <td>-0.017324</td>\n",
              "      <td>-0.010470</td>\n",
              "      <td>0.121220</td>\n",
              "      <td>-0.061951</td>\n",
              "      <td>0.039233</td>\n",
              "      <td>-0.014525</td>\n",
              "      <td>0.003334</td>\n",
              "      <td>...</td>\n",
              "      <td>-0.021517</td>\n",
              "      <td>1.000000</td>\n",
              "      <td>0.002574</td>\n",
              "      <td>NaN</td>\n",
              "      <td>NaN</td>\n",
              "      <td>-0.001060</td>\n",
              "      <td>-0.191959</td>\n",
              "      <td>0.017457</td>\n",
              "      <td>0.041371</td>\n",
              "      <td>-0.033410</td>\n",
              "    </tr>\n",
              "    <tr>\n",
              "      <th>nhostkid</th>\n",
              "      <td>-0.003526</td>\n",
              "      <td>-0.009674</td>\n",
              "      <td>-0.007193</td>\n",
              "      <td>0.012947</td>\n",
              "      <td>0.003795</td>\n",
              "      <td>0.003608</td>\n",
              "      <td>0.059720</td>\n",
              "      <td>0.399041</td>\n",
              "      <td>0.123156</td>\n",
              "      <td>0.053507</td>\n",
              "      <td>...</td>\n",
              "      <td>0.018033</td>\n",
              "      <td>0.002574</td>\n",
              "      <td>1.000000</td>\n",
              "      <td>0.099172</td>\n",
              "      <td>-0.020154</td>\n",
              "      <td>0.946671</td>\n",
              "      <td>0.030878</td>\n",
              "      <td>0.013230</td>\n",
              "      <td>0.066215</td>\n",
              "      <td>0.023602</td>\n",
              "    </tr>\n",
              "    <tr>\n",
              "      <th>nhours</th>\n",
              "      <td>-0.034181</td>\n",
              "      <td>0.060130</td>\n",
              "      <td>0.015390</td>\n",
              "      <td>-0.011427</td>\n",
              "      <td>0.013754</td>\n",
              "      <td>0.059399</td>\n",
              "      <td>-0.011703</td>\n",
              "      <td>-0.039176</td>\n",
              "      <td>0.125693</td>\n",
              "      <td>-0.042451</td>\n",
              "      <td>...</td>\n",
              "      <td>0.039038</td>\n",
              "      <td>NaN</td>\n",
              "      <td>0.099172</td>\n",
              "      <td>1.000000</td>\n",
              "      <td>-0.281461</td>\n",
              "      <td>0.116004</td>\n",
              "      <td>-0.082228</td>\n",
              "      <td>0.033286</td>\n",
              "      <td>0.004351</td>\n",
              "      <td>-0.056440</td>\n",
              "    </tr>\n",
              "    <tr>\n",
              "      <th>ndays</th>\n",
              "      <td>0.870349</td>\n",
              "      <td>-0.000218</td>\n",
              "      <td>0.027441</td>\n",
              "      <td>-0.005012</td>\n",
              "      <td>-0.036861</td>\n",
              "      <td>0.007813</td>\n",
              "      <td>-0.013117</td>\n",
              "      <td>-0.019443</td>\n",
              "      <td>-0.017639</td>\n",
              "      <td>-0.004353</td>\n",
              "      <td>...</td>\n",
              "      <td>0.002890</td>\n",
              "      <td>NaN</td>\n",
              "      <td>-0.020154</td>\n",
              "      <td>-0.281461</td>\n",
              "      <td>1.000000</td>\n",
              "      <td>-0.019504</td>\n",
              "      <td>-0.001988</td>\n",
              "      <td>0.064448</td>\n",
              "      <td>0.201493</td>\n",
              "      <td>-0.025210</td>\n",
              "    </tr>\n",
              "    <tr>\n",
              "      <th>nreleased</th>\n",
              "      <td>-0.007852</td>\n",
              "      <td>-0.014513</td>\n",
              "      <td>0.001265</td>\n",
              "      <td>0.012296</td>\n",
              "      <td>0.010069</td>\n",
              "      <td>0.002713</td>\n",
              "      <td>0.052622</td>\n",
              "      <td>0.359714</td>\n",
              "      <td>0.192119</td>\n",
              "      <td>0.026637</td>\n",
              "      <td>...</td>\n",
              "      <td>0.043251</td>\n",
              "      <td>-0.001060</td>\n",
              "      <td>0.946671</td>\n",
              "      <td>0.116004</td>\n",
              "      <td>-0.019504</td>\n",
              "      <td>1.000000</td>\n",
              "      <td>0.052892</td>\n",
              "      <td>0.023844</td>\n",
              "      <td>0.048932</td>\n",
              "      <td>0.006967</td>\n",
              "    </tr>\n",
              "    <tr>\n",
              "      <th>propdamage</th>\n",
              "      <td>-0.037079</td>\n",
              "      <td>-0.061242</td>\n",
              "      <td>-0.012206</td>\n",
              "      <td>0.015311</td>\n",
              "      <td>0.017833</td>\n",
              "      <td>0.273939</td>\n",
              "      <td>0.048079</td>\n",
              "      <td>0.056827</td>\n",
              "      <td>-0.034722</td>\n",
              "      <td>0.053926</td>\n",
              "      <td>...</td>\n",
              "      <td>-0.041761</td>\n",
              "      <td>-0.191959</td>\n",
              "      <td>0.030878</td>\n",
              "      <td>-0.082228</td>\n",
              "      <td>-0.001988</td>\n",
              "      <td>0.052892</td>\n",
              "      <td>1.000000</td>\n",
              "      <td>-0.001931</td>\n",
              "      <td>-0.032246</td>\n",
              "      <td>0.076715</td>\n",
              "    </tr>\n",
              "    <tr>\n",
              "      <th>INT_LOG</th>\n",
              "      <td>0.005605</td>\n",
              "      <td>-0.032690</td>\n",
              "      <td>0.018209</td>\n",
              "      <td>-0.012563</td>\n",
              "      <td>0.004858</td>\n",
              "      <td>-0.015723</td>\n",
              "      <td>0.012178</td>\n",
              "      <td>-0.005736</td>\n",
              "      <td>-0.008599</td>\n",
              "      <td>0.000206</td>\n",
              "      <td>...</td>\n",
              "      <td>0.043034</td>\n",
              "      <td>0.017457</td>\n",
              "      <td>0.013230</td>\n",
              "      <td>0.033286</td>\n",
              "      <td>0.064448</td>\n",
              "      <td>0.023844</td>\n",
              "      <td>-0.001931</td>\n",
              "      <td>1.000000</td>\n",
              "      <td>0.332459</td>\n",
              "      <td>-0.039029</td>\n",
              "    </tr>\n",
              "    <tr>\n",
              "      <th>INT_IDEO</th>\n",
              "      <td>0.043591</td>\n",
              "      <td>-0.056776</td>\n",
              "      <td>0.000090</td>\n",
              "      <td>0.009453</td>\n",
              "      <td>-0.012837</td>\n",
              "      <td>-0.020511</td>\n",
              "      <td>0.132070</td>\n",
              "      <td>0.059058</td>\n",
              "      <td>0.024013</td>\n",
              "      <td>0.024954</td>\n",
              "      <td>...</td>\n",
              "      <td>0.004394</td>\n",
              "      <td>0.041371</td>\n",
              "      <td>0.066215</td>\n",
              "      <td>0.004351</td>\n",
              "      <td>0.201493</td>\n",
              "      <td>0.048932</td>\n",
              "      <td>-0.032246</td>\n",
              "      <td>0.332459</td>\n",
              "      <td>1.000000</td>\n",
              "      <td>0.021361</td>\n",
              "    </tr>\n",
              "    <tr>\n",
              "      <th>n_related</th>\n",
              "      <td>-0.010182</td>\n",
              "      <td>0.015821</td>\n",
              "      <td>-0.025350</td>\n",
              "      <td>0.021627</td>\n",
              "      <td>0.007232</td>\n",
              "      <td>0.022112</td>\n",
              "      <td>-0.013972</td>\n",
              "      <td>-0.006917</td>\n",
              "      <td>-0.005630</td>\n",
              "      <td>0.002485</td>\n",
              "      <td>...</td>\n",
              "      <td>-0.005513</td>\n",
              "      <td>-0.033410</td>\n",
              "      <td>0.023602</td>\n",
              "      <td>-0.056440</td>\n",
              "      <td>-0.025210</td>\n",
              "      <td>0.006967</td>\n",
              "      <td>0.076715</td>\n",
              "      <td>-0.039029</td>\n",
              "      <td>0.021361</td>\n",
              "      <td>1.000000</td>\n",
              "    </tr>\n",
              "  </tbody>\n",
              "</table>\n",
              "<p>21 rows × 21 columns</p>\n",
              "</div>\n",
              "      <button class=\"colab-df-convert\" onclick=\"convertToInteractive('df-6833fbaa-c621-4827-8e09-a1e4bbef476a')\"\n",
              "              title=\"Convert this dataframe to an interactive table.\"\n",
              "              style=\"display:none;\">\n",
              "        \n",
              "  <svg xmlns=\"http://www.w3.org/2000/svg\" height=\"24px\"viewBox=\"0 0 24 24\"\n",
              "       width=\"24px\">\n",
              "    <path d=\"M0 0h24v24H0V0z\" fill=\"none\"/>\n",
              "    <path d=\"M18.56 5.44l.94 2.06.94-2.06 2.06-.94-2.06-.94-.94-2.06-.94 2.06-2.06.94zm-11 1L8.5 8.5l.94-2.06 2.06-.94-2.06-.94L8.5 2.5l-.94 2.06-2.06.94zm10 10l.94 2.06.94-2.06 2.06-.94-2.06-.94-.94-2.06-.94 2.06-2.06.94z\"/><path d=\"M17.41 7.96l-1.37-1.37c-.4-.4-.92-.59-1.43-.59-.52 0-1.04.2-1.43.59L10.3 9.45l-7.72 7.72c-.78.78-.78 2.05 0 2.83L4 21.41c.39.39.9.59 1.41.59.51 0 1.02-.2 1.41-.59l7.78-7.78 2.81-2.81c.8-.78.8-2.07 0-2.86zM5.41 20L4 18.59l7.72-7.72 1.47 1.35L5.41 20z\"/>\n",
              "  </svg>\n",
              "      </button>\n",
              "      \n",
              "  <style>\n",
              "    .colab-df-container {\n",
              "      display:flex;\n",
              "      flex-wrap:wrap;\n",
              "      gap: 12px;\n",
              "    }\n",
              "\n",
              "    .colab-df-convert {\n",
              "      background-color: #E8F0FE;\n",
              "      border: none;\n",
              "      border-radius: 50%;\n",
              "      cursor: pointer;\n",
              "      display: none;\n",
              "      fill: #1967D2;\n",
              "      height: 32px;\n",
              "      padding: 0 0 0 0;\n",
              "      width: 32px;\n",
              "    }\n",
              "\n",
              "    .colab-df-convert:hover {\n",
              "      background-color: #E2EBFA;\n",
              "      box-shadow: 0px 1px 2px rgba(60, 64, 67, 0.3), 0px 1px 3px 1px rgba(60, 64, 67, 0.15);\n",
              "      fill: #174EA6;\n",
              "    }\n",
              "\n",
              "    [theme=dark] .colab-df-convert {\n",
              "      background-color: #3B4455;\n",
              "      fill: #D2E3FC;\n",
              "    }\n",
              "\n",
              "    [theme=dark] .colab-df-convert:hover {\n",
              "      background-color: #434B5C;\n",
              "      box-shadow: 0px 1px 3px 1px rgba(0, 0, 0, 0.15);\n",
              "      filter: drop-shadow(0px 1px 2px rgba(0, 0, 0, 0.3));\n",
              "      fill: #FFFFFF;\n",
              "    }\n",
              "  </style>\n",
              "\n",
              "      <script>\n",
              "        const buttonEl =\n",
              "          document.querySelector('#df-6833fbaa-c621-4827-8e09-a1e4bbef476a button.colab-df-convert');\n",
              "        buttonEl.style.display =\n",
              "          google.colab.kernel.accessAllowed ? 'block' : 'none';\n",
              "\n",
              "        async function convertToInteractive(key) {\n",
              "          const element = document.querySelector('#df-6833fbaa-c621-4827-8e09-a1e4bbef476a');\n",
              "          const dataTable =\n",
              "            await google.colab.kernel.invokeFunction('convertToInteractive',\n",
              "                                                     [key], {});\n",
              "          if (!dataTable) return;\n",
              "\n",
              "          const docLinkHtml = 'Like what you see? Visit the ' +\n",
              "            '<a target=\"_blank\" href=https://colab.research.google.com/notebooks/data_table.ipynb>data table notebook</a>'\n",
              "            + ' to learn more about interactive tables.';\n",
              "          element.innerHTML = '';\n",
              "          dataTable['output_type'] = 'display_data';\n",
              "          await google.colab.output.renderOutput(dataTable, element);\n",
              "          const docLink = document.createElement('div');\n",
              "          docLink.innerHTML = docLinkHtml;\n",
              "          element.appendChild(docLink);\n",
              "        }\n",
              "      </script>\n",
              "    </div>\n",
              "  </div>\n",
              "  "
            ]
          },
          "metadata": {},
          "execution_count": 9
        },
        {
          "output_type": "stream",
          "name": "stdout",
          "text": [
            "Warning: Total number of columns (21) exceeds max_columns (20) limiting to first (20) columns.\n"
          ]
        }
      ]
    },
    {
      "cell_type": "markdown",
      "source": [
        "De esta matriz se extraen las siguientes cosas:\n",
        "\n",
        "nkill tiene relación con nhostkid con un valor de -0.399, esto significa que a medida que aumenta el número de muertes, disminuye el número de rehenes, lo  cuál en primera instancia no se piensa pero brinda un pilar inicial para poder estimar si es que un grupo tiende a estar en un atentado que hay altas muertes, entonces la tasa de rehenes o secuestrados muertos aumenta tambien.\\\n",
        "nhostkid posee una correlación de -0.946 con nrealized, lo que significa que si el número de secuestros o rehenes aumenta, entonces disminuye con creces el número de personas que sobrevive al incidente y que fueron tomadas como rehen.\n",
        "\n",
        "nkill posee una correlación de 0.7 con nwound, lo que dice que aproximadamente un 70% de las personas que fueron heridas en el incidente, finalmente murieron.\n",
        "\n",
        "Análisis como estos servirán en un futuro para generar predicciones y asociaciones no triviales en este dataset, pues aparte de describir que significa cada valor correlacional (lo que sería muy largo y poco productivo), permite usar dichos valores para por ejemplo, asociar un peso a un conjunto de atributos en una red neuronal destinada a hacer clasificaciones en este dataset, siendo un valor en principio oculto pero que sirva como ladrillo para generar una predicción bien fundamentada."
      ],
      "metadata": {
        "id": "7s0KjLdwgCuz"
      }
    },
    {
      "cell_type": "markdown",
      "source": [
        "Como no se puede visualizar al 100% la información se decidió realizar mapas más detallados y así poder reconocer mejor las zonas de ataque. -Inserte gráficos brígidos- "
      ],
      "metadata": {
        "id": "U0hkfTwdEjMQ"
      }
    },
    {
      "cell_type": "code",
      "source": [
        ""
      ],
      "metadata": {
        "id": "pYmGyzh3FT6K"
      },
      "execution_count": null,
      "outputs": []
    },
    {
      "cell_type": "markdown",
      "metadata": {
        "id": "69998f4b"
      },
      "source": [
        "### Graficos\n"
      ]
    },
    {
      "cell_type": "code",
      "source": [
        "df[\"country_txt\"].value_counts().head(10)"
      ],
      "metadata": {
        "id": "Fncmnq_jDw3n",
        "colab": {
          "base_uri": "https://localhost:8080/"
        },
        "outputId": "acc9797e-d1d0-4f78-f94e-30daeab05071"
      },
      "execution_count": null,
      "outputs": [
        {
          "output_type": "execute_result",
          "data": {
            "text/plain": [
              "Iraq           23728\n",
              "Afghanistan    13785\n",
              "Pakistan       12015\n",
              "India          10032\n",
              "Philippines     4877\n",
              "Nigeria         4615\n",
              "Yemen           4036\n",
              "Thailand        3537\n",
              "Somalia         3179\n",
              "Colombia        2514\n",
              "Name: country_txt, dtype: int64"
            ]
          },
          "metadata": {},
          "execution_count": 10
        }
      ]
    },
    {
      "cell_type": "markdown",
      "source": [
        "Para poder visualizar la información anterior en primera instancia se hizo un gráfico simple haciendo uso de las latitudes y longitudes del dataset. El primer resultado se puede apreciar en la siguiente figura."
      ],
      "metadata": {
        "id": "JrY2aKb1D2uO"
      }
    },
    {
      "cell_type": "code",
      "source": [
        "import pandas as pd\n",
        "!pip install --upgrade geopandas\n",
        "import geopandas\n",
        "#deben correr en otra celda un pip install geopandas para importar la librería\n",
        "import matplotlib.pyplot as plt\n",
        "from shapely.geometry import Point\n",
        "long = df['longitude']\n",
        "lat = df['latitude']\n",
        "world = geopandas.read_file(geopandas.datasets.get_path('naturalearth_lowres'))\n",
        "geometry = [Point(xy) for xy in zip(long,lat)]\n",
        "base = world.plot(color='white', edgecolor='black')\n",
        "geo_df = geopandas.GeoDataFrame(geometry = geometry)\n",
        "geo_df.plot(ax=base, marker='o', color='red', markersize=1)"
      ],
      "metadata": {
        "id": "0BKTU23VEEJ0",
        "colab": {
          "base_uri": "https://localhost:8080/",
          "height": 733
        },
        "outputId": "dcaae791-6827-41d2-9114-6099ac9c096a"
      },
      "execution_count": null,
      "outputs": [
        {
          "output_type": "stream",
          "name": "stdout",
          "text": [
            "Looking in indexes: https://pypi.org/simple, https://us-python.pkg.dev/colab-wheels/public/simple/\n",
            "Collecting geopandas\n",
            "  Downloading geopandas-0.10.2-py2.py3-none-any.whl (1.0 MB)\n",
            "\u001b[K     |████████████████████████████████| 1.0 MB 5.1 MB/s \n",
            "\u001b[?25hRequirement already satisfied: pandas>=0.25.0 in /usr/local/lib/python3.7/dist-packages (from geopandas) (1.3.5)\n",
            "Requirement already satisfied: shapely>=1.6 in /usr/local/lib/python3.7/dist-packages (from geopandas) (1.8.2)\n",
            "Collecting pyproj>=2.2.0\n",
            "  Downloading pyproj-3.2.1-cp37-cp37m-manylinux2010_x86_64.whl (6.3 MB)\n",
            "\u001b[K     |████████████████████████████████| 6.3 MB 37.3 MB/s \n",
            "\u001b[?25hCollecting fiona>=1.8\n",
            "  Downloading Fiona-1.8.21-cp37-cp37m-manylinux2014_x86_64.whl (16.7 MB)\n",
            "\u001b[K     |████████████████████████████████| 16.7 MB 156 kB/s \n",
            "\u001b[?25hRequirement already satisfied: certifi in /usr/local/lib/python3.7/dist-packages (from fiona>=1.8->geopandas) (2022.5.18.1)\n",
            "Collecting munch\n",
            "  Downloading munch-2.5.0-py2.py3-none-any.whl (10 kB)\n",
            "Requirement already satisfied: attrs>=17 in /usr/local/lib/python3.7/dist-packages (from fiona>=1.8->geopandas) (21.4.0)\n",
            "Requirement already satisfied: setuptools in /usr/local/lib/python3.7/dist-packages (from fiona>=1.8->geopandas) (57.4.0)\n",
            "Requirement already satisfied: six>=1.7 in /usr/local/lib/python3.7/dist-packages (from fiona>=1.8->geopandas) (1.15.0)\n",
            "Requirement already satisfied: click>=4.0 in /usr/local/lib/python3.7/dist-packages (from fiona>=1.8->geopandas) (7.1.2)\n",
            "Collecting click-plugins>=1.0\n",
            "  Downloading click_plugins-1.1.1-py2.py3-none-any.whl (7.5 kB)\n",
            "Collecting cligj>=0.5\n",
            "  Downloading cligj-0.7.2-py3-none-any.whl (7.1 kB)\n",
            "Requirement already satisfied: python-dateutil>=2.7.3 in /usr/local/lib/python3.7/dist-packages (from pandas>=0.25.0->geopandas) (2.8.2)\n",
            "Requirement already satisfied: pytz>=2017.3 in /usr/local/lib/python3.7/dist-packages (from pandas>=0.25.0->geopandas) (2022.1)\n",
            "Requirement already satisfied: numpy>=1.17.3 in /usr/local/lib/python3.7/dist-packages (from pandas>=0.25.0->geopandas) (1.21.6)\n",
            "Installing collected packages: munch, cligj, click-plugins, pyproj, fiona, geopandas\n",
            "Successfully installed click-plugins-1.1.1 cligj-0.7.2 fiona-1.8.21 geopandas-0.10.2 munch-2.5.0 pyproj-3.2.1\n"
          ]
        },
        {
          "output_type": "execute_result",
          "data": {
            "text/plain": [
              "<matplotlib.axes._subplots.AxesSubplot at 0x7f3921296b50>"
            ]
          },
          "metadata": {},
          "execution_count": 12
        },
        {
          "output_type": "display_data",
          "data": {
            "text/plain": [
              "<Figure size 432x288 with 1 Axes>"
            ],
            "image/png": "[encoded data removed]"
          },
          "metadata": {
            "needs_background": "light"
          }
        }
      ]
    },
    {
      "cell_type": "markdown",
      "metadata": {
        "id": "435a343d"
      },
      "source": [
        "A continuación, se genera un _scatter plot_ que marca con un punto cada incidente en el mapa:"
      ]
    },
    {
      "cell_type": "code",
      "execution_count": null,
      "metadata": {
        "id": "d7f4f58d"
      },
      "outputs": [],
      "source": [
        "import plotly.express as px\n",
        "\n",
        "fig = px.scatter_geo(df, lat=df.latitude, lon=df.longitude)\n",
        "fig.write_html(\"scatter_geo_basico.html\")"
      ]
    },
    {
      "cell_type": "markdown",
      "metadata": {
        "id": "452f472f"
      },
      "source": [
        "Es importante notar que este mapa realiza una carga importante sobre el sistema al renderizarlo, por lo que se recomienza luego de analizarlo cerrar u ocultar su celda."
      ]
    },
    {
      "cell_type": "code",
      "execution_count": null,
      "metadata": {
        "id": "3f50e3cc"
      },
      "outputs": [],
      "source": [
        "#%%html\n",
        "#<iframe src=\"scatter_geo_basico.html\" width=\"800\" height=\"600\" title=\"Choropleth map with plotly\" style=\"border:none\"></iframe>"
      ]
    },
    {
      "cell_type": "markdown",
      "metadata": {
        "id": "c69b1296"
      },
      "source": [
        "También, a partir de estos datos, se genera un _heatmap_ mostrando los incidentes por país."
      ]
    },
    {
      "cell_type": "code",
      "execution_count": null,
      "metadata": {
        "id": "290919fb",
        "colab": {
          "base_uri": "https://localhost:8080/",
          "height": 237
        },
        "outputId": "d4c9177f-080f-4cb3-e4a3-5bf0b3200a2c"
      },
      "outputs": [
        {
          "output_type": "error",
          "ename": "FileNotFoundError",
          "evalue": "ignored",
          "traceback": [
            "\u001b[0;31m---------------------------------------------------------------------------\u001b[0m",
            "\u001b[0;31mFileNotFoundError\u001b[0m                         Traceback (most recent call last)",
            "\u001b[0;32m<ipython-input-14-be42eba93211>\u001b[0m in \u001b[0;36m<module>\u001b[0;34m()\u001b[0m\n\u001b[1;32m      2\u001b[0m \u001b[0;34m\u001b[0m\u001b[0m\n\u001b[1;32m      3\u001b[0m \u001b[0;31m# GEOjson with country border data.\u001b[0m\u001b[0;34m\u001b[0m\u001b[0;34m\u001b[0m\u001b[0;34m\u001b[0m\u001b[0m\n\u001b[0;32m----> 4\u001b[0;31m \u001b[0;32mwith\u001b[0m \u001b[0mopen\u001b[0m\u001b[0;34m(\u001b[0m\u001b[0;34m'countries.geojson'\u001b[0m\u001b[0;34m,\u001b[0m \u001b[0;34m'r'\u001b[0m\u001b[0;34m)\u001b[0m \u001b[0;32mas\u001b[0m \u001b[0mfp\u001b[0m\u001b[0;34m:\u001b[0m\u001b[0;34m\u001b[0m\u001b[0;34m\u001b[0m\u001b[0m\n\u001b[0m\u001b[1;32m      5\u001b[0m     \u001b[0mcountry_json\u001b[0m \u001b[0;34m=\u001b[0m \u001b[0mjson\u001b[0m\u001b[0;34m.\u001b[0m\u001b[0mload\u001b[0m\u001b[0;34m(\u001b[0m\u001b[0mfp\u001b[0m\u001b[0;34m)\u001b[0m\u001b[0;34m\u001b[0m\u001b[0;34m\u001b[0m\u001b[0m\n\u001b[1;32m      6\u001b[0m \u001b[0;34m\u001b[0m\u001b[0m\n",
            "\u001b[0;31mFileNotFoundError\u001b[0m: [Errno 2] No such file or directory: 'countries.geojson'"
          ]
        }
      ],
      "source": [
        "import json\n",
        "\n",
        "# GEOjson with country border data.\n",
        "with open('countries.geojson', 'r') as fp:\n",
        "    country_json = json.load(fp)\n",
        "    \n",
        "# Counts the number of incidents per country\n",
        "df_count = df['country_txt'].value_counts(dropna=False).rename_axis('country').reset_index(name='count')\n",
        "df_count['code'] = df_count.country.apply(lambda s: country_code_dict.get(s))\n",
        "\n",
        "fig = px.choropleth(data_frame=df_count, \n",
        "                    locations='code',\n",
        "                    locationmode='ISO-3',\n",
        "                    geojson=country_json,\n",
        "                    color='count',\n",
        "                    hover_name='count',\n",
        "                    color_continuous_scale=px.colors.sequential.amp)\n",
        "\n",
        "fig.write_html(\"heat_country_basico.html\")"
      ]
    },
    {
      "cell_type": "code",
      "execution_count": null,
      "metadata": {
        "scrolled": true,
        "id": "2b26eced",
        "colab": {
          "base_uri": "https://localhost:8080/",
          "height": 521
        },
        "outputId": "78331e08-e898-4a45-e7f8-18670f67d77f"
      },
      "outputs": [
        {
          "output_type": "execute_result",
          "data": {
            "text/plain": [
              "<IPython.lib.display.IFrame at 0x7f391930ff10>"
            ],
            "text/html": [
              "\n",
              "        <iframe\n",
              "            width=\"800\"\n",
              "            height=\"500\"\n",
              "            src=\"heat_country_basico.html\"\n",
              "            frameborder=\"0\"\n",
              "            allowfullscreen\n",
              "        ></iframe>\n",
              "        "
            ]
          },
          "metadata": {},
          "execution_count": 15
        }
      ],
      "source": [
        "from IPython.display import IFrame\n",
        "IFrame(src='heat_country_basico.html', width=800, height=500)\n"
      ]
    },
    {
      "cell_type": "markdown",
      "metadata": {
        "id": "bb1c2714"
      },
      "source": [
        "Es directo observar que en Irak y el subcontinente Indio junto con Afganistán y Pakistán es donde se concentra la mayor cantidad de incidentes a la fecha, por lo que se revisará en mas detalle las 10 subdivisiones administrativas (provincias en el caso de Irak) con mayor cantidad de ataques."
      ]
    },
    {
      "cell_type": "code",
      "execution_count": null,
      "metadata": {
        "id": "2c4d994b",
        "colab": {
          "base_uri": "https://localhost:8080/",
          "height": 404
        },
        "outputId": "c0219b59-4668-4bc5-9c60-5582f9642a1b"
      },
      "outputs": [
        {
          "output_type": "display_data",
          "data": {
            "text/plain": [
              "<Figure size 1008x432 with 1 Axes>"
            ],
            "image/png": "[encoded data removed]"
          },
          "metadata": {
            "needs_background": "light"
          }
        }
      ],
      "source": [
        "df_iraq = df[df['country_txt'] == 'Iraq']\n",
        "df_count_iraq = df_iraq['provstate'].value_counts(dropna=False).rename_axis('provstate').reset_index(name='count')\n",
        "\n",
        "import seaborn as sns\n",
        "import matplotlib.pyplot as plt\n",
        "\n",
        "# Make a barplot\n",
        "fig = plt.figure(figsize=(14, 6))\n",
        "sns.set_style(\"darkgrid\")\n",
        "ax = sns.barplot(x=\"count\", y=\"provstate\", \n",
        "                 data=df_count_iraq.nlargest(10, 'count'),\n",
        "                 color='#37383fff',\n",
        "                )\n",
        "\n",
        "ax.set(xlabel='Ataques (cantidad)', ylabel='Provincia')\n",
        "ax.set(title='10 provincias de Irak con la mayor cantidad de ataques entre 1998-2019');"
      ]
    },
    {
      "cell_type": "markdown",
      "metadata": {
        "id": "45356198"
      },
      "source": [
        "A continuación, se estudia como ha cambiado en el tiempo la frecuencia de bombardeos o explosiones, normalizados en función de la cantidad total de actos terroristas ocurridos cada año."
      ]
    },
    {
      "cell_type": "code",
      "execution_count": null,
      "metadata": {
        "scrolled": true,
        "id": "81684324",
        "colab": {
          "base_uri": "https://localhost:8080/",
          "height": 452
        },
        "outputId": "23180992-98e3-4a49-83a8-642f7af00f31"
      },
      "outputs": [
        {
          "output_type": "error",
          "ename": "AttributeError",
          "evalue": "ignored",
          "traceback": [
            "\u001b[0;31m---------------------------------------------------------------------------\u001b[0m",
            "\u001b[0;31mAttributeError\u001b[0m                            Traceback (most recent call last)",
            "\u001b[0;32m<ipython-input-17-c1538e0b7f1c>\u001b[0m in \u001b[0;36m<module>\u001b[0;34m()\u001b[0m\n\u001b[1;32m      1\u001b[0m \u001b[0mdf_bomb\u001b[0m \u001b[0;34m=\u001b[0m \u001b[0mdf\u001b[0m\u001b[0;34m[\u001b[0m\u001b[0mdf\u001b[0m\u001b[0;34m.\u001b[0m\u001b[0mattacktype1_txt\u001b[0m \u001b[0;34m==\u001b[0m \u001b[0;34m'Bombing/Explosion'\u001b[0m\u001b[0;34m]\u001b[0m\u001b[0;34m\u001b[0m\u001b[0;34m\u001b[0m\u001b[0m\n\u001b[0;32m----> 2\u001b[0;31m \u001b[0mdf_bomb\u001b[0m \u001b[0;34m=\u001b[0m \u001b[0mdf_bomb\u001b[0m\u001b[0;34m[\u001b[0m\u001b[0;34m'timestamp'\u001b[0m\u001b[0;34m]\u001b[0m\u001b[0;34m.\u001b[0m\u001b[0mapply\u001b[0m\u001b[0;34m(\u001b[0m\u001b[0;32mlambda\u001b[0m \u001b[0ms\u001b[0m\u001b[0;34m:\u001b[0m \u001b[0ms\u001b[0m\u001b[0;34m.\u001b[0m\u001b[0myear\u001b[0m\u001b[0;34m)\u001b[0m\u001b[0;34m.\u001b[0m\u001b[0mvalue_counts\u001b[0m\u001b[0;34m(\u001b[0m\u001b[0mdropna\u001b[0m\u001b[0;34m=\u001b[0m\u001b[0;32mFalse\u001b[0m\u001b[0;34m)\u001b[0m\u001b[0;34m.\u001b[0m\u001b[0mrename_axis\u001b[0m\u001b[0;34m(\u001b[0m\u001b[0;34m'year'\u001b[0m\u001b[0;34m)\u001b[0m\u001b[0;34m.\u001b[0m\u001b[0mreset_index\u001b[0m\u001b[0;34m(\u001b[0m\u001b[0mname\u001b[0m\u001b[0;34m=\u001b[0m\u001b[0;34m'frequency'\u001b[0m\u001b[0;34m)\u001b[0m\u001b[0;34m\u001b[0m\u001b[0;34m\u001b[0m\u001b[0m\n\u001b[0m\u001b[1;32m      3\u001b[0m \u001b[0;34m\u001b[0m\u001b[0m\n\u001b[1;32m      4\u001b[0m \u001b[0;34m\u001b[0m\u001b[0m\n\u001b[1;32m      5\u001b[0m \u001b[0mdf_bomb\u001b[0m\u001b[0;34m[\u001b[0m\u001b[0;34m'frequency'\u001b[0m\u001b[0;34m]\u001b[0m \u001b[0;34m=\u001b[0m \u001b[0;36m100\u001b[0m \u001b[0;34m*\u001b[0m \u001b[0mdf_bomb\u001b[0m\u001b[0;34m[\u001b[0m\u001b[0;34m'frequency'\u001b[0m\u001b[0;34m]\u001b[0m \u001b[0;34m/\u001b[0m \u001b[0mdf\u001b[0m\u001b[0;34m[\u001b[0m\u001b[0;34m'timestamp'\u001b[0m\u001b[0;34m]\u001b[0m\u001b[0;34m.\u001b[0m\u001b[0mapply\u001b[0m\u001b[0;34m(\u001b[0m\u001b[0;32mlambda\u001b[0m \u001b[0ms\u001b[0m\u001b[0;34m:\u001b[0m \u001b[0ms\u001b[0m\u001b[0;34m.\u001b[0m\u001b[0myear\u001b[0m\u001b[0;34m)\u001b[0m\u001b[0;34m.\u001b[0m\u001b[0mvalue_counts\u001b[0m\u001b[0;34m(\u001b[0m\u001b[0mdropna\u001b[0m\u001b[0;34m=\u001b[0m\u001b[0;32mFalse\u001b[0m\u001b[0;34m)\u001b[0m\u001b[0;34m.\u001b[0m\u001b[0mrename_axis\u001b[0m\u001b[0;34m(\u001b[0m\u001b[0;34m'year'\u001b[0m\u001b[0;34m)\u001b[0m\u001b[0;34m.\u001b[0m\u001b[0mreset_index\u001b[0m\u001b[0;34m(\u001b[0m\u001b[0mname\u001b[0m\u001b[0;34m=\u001b[0m\u001b[0;34m'frequency'\u001b[0m\u001b[0;34m)\u001b[0m\u001b[0;34m[\u001b[0m\u001b[0;34m'frequency'\u001b[0m\u001b[0;34m]\u001b[0m\u001b[0;34m\u001b[0m\u001b[0;34m\u001b[0m\u001b[0m\n",
            "\u001b[0;32m/usr/local/lib/python3.7/dist-packages/pandas/core/series.py\u001b[0m in \u001b[0;36mapply\u001b[0;34m(self, func, convert_dtype, args, **kwargs)\u001b[0m\n\u001b[1;32m   4355\u001b[0m         \u001b[0mdtype\u001b[0m\u001b[0;34m:\u001b[0m \u001b[0mfloat64\u001b[0m\u001b[0;34m\u001b[0m\u001b[0;34m\u001b[0m\u001b[0m\n\u001b[1;32m   4356\u001b[0m         \"\"\"\n\u001b[0;32m-> 4357\u001b[0;31m         \u001b[0;32mreturn\u001b[0m \u001b[0mSeriesApply\u001b[0m\u001b[0;34m(\u001b[0m\u001b[0mself\u001b[0m\u001b[0;34m,\u001b[0m \u001b[0mfunc\u001b[0m\u001b[0;34m,\u001b[0m \u001b[0mconvert_dtype\u001b[0m\u001b[0;34m,\u001b[0m \u001b[0margs\u001b[0m\u001b[0;34m,\u001b[0m \u001b[0mkwargs\u001b[0m\u001b[0;34m)\u001b[0m\u001b[0;34m.\u001b[0m\u001b[0mapply\u001b[0m\u001b[0;34m(\u001b[0m\u001b[0;34m)\u001b[0m\u001b[0;34m\u001b[0m\u001b[0;34m\u001b[0m\u001b[0m\n\u001b[0m\u001b[1;32m   4358\u001b[0m \u001b[0;34m\u001b[0m\u001b[0m\n\u001b[1;32m   4359\u001b[0m     def _reduce(\n",
            "\u001b[0;32m/usr/local/lib/python3.7/dist-packages/pandas/core/apply.py\u001b[0m in \u001b[0;36mapply\u001b[0;34m(self)\u001b[0m\n\u001b[1;32m   1041\u001b[0m             \u001b[0;32mreturn\u001b[0m \u001b[0mself\u001b[0m\u001b[0;34m.\u001b[0m\u001b[0mapply_str\u001b[0m\u001b[0;34m(\u001b[0m\u001b[0;34m)\u001b[0m\u001b[0;34m\u001b[0m\u001b[0;34m\u001b[0m\u001b[0m\n\u001b[1;32m   1042\u001b[0m \u001b[0;34m\u001b[0m\u001b[0m\n\u001b[0;32m-> 1043\u001b[0;31m         \u001b[0;32mreturn\u001b[0m \u001b[0mself\u001b[0m\u001b[0;34m.\u001b[0m\u001b[0mapply_standard\u001b[0m\u001b[0;34m(\u001b[0m\u001b[0;34m)\u001b[0m\u001b[0;34m\u001b[0m\u001b[0;34m\u001b[0m\u001b[0m\n\u001b[0m\u001b[1;32m   1044\u001b[0m \u001b[0;34m\u001b[0m\u001b[0m\n\u001b[1;32m   1045\u001b[0m     \u001b[0;32mdef\u001b[0m \u001b[0magg\u001b[0m\u001b[0;34m(\u001b[0m\u001b[0mself\u001b[0m\u001b[0;34m)\u001b[0m\u001b[0;34m:\u001b[0m\u001b[0;34m\u001b[0m\u001b[0;34m\u001b[0m\u001b[0m\n",
            "\u001b[0;32m/usr/local/lib/python3.7/dist-packages/pandas/core/apply.py\u001b[0m in \u001b[0;36mapply_standard\u001b[0;34m(self)\u001b[0m\n\u001b[1;32m   1099\u001b[0m                     \u001b[0mvalues\u001b[0m\u001b[0;34m,\u001b[0m\u001b[0;34m\u001b[0m\u001b[0;34m\u001b[0m\u001b[0m\n\u001b[1;32m   1100\u001b[0m                     \u001b[0mf\u001b[0m\u001b[0;34m,\u001b[0m  \u001b[0;31m# type: ignore[arg-type]\u001b[0m\u001b[0;34m\u001b[0m\u001b[0;34m\u001b[0m\u001b[0m\n\u001b[0;32m-> 1101\u001b[0;31m                     \u001b[0mconvert\u001b[0m\u001b[0;34m=\u001b[0m\u001b[0mself\u001b[0m\u001b[0;34m.\u001b[0m\u001b[0mconvert_dtype\u001b[0m\u001b[0;34m,\u001b[0m\u001b[0;34m\u001b[0m\u001b[0;34m\u001b[0m\u001b[0m\n\u001b[0m\u001b[1;32m   1102\u001b[0m                 )\n\u001b[1;32m   1103\u001b[0m \u001b[0;34m\u001b[0m\u001b[0m\n",
            "\u001b[0;32m/usr/local/lib/python3.7/dist-packages/pandas/_libs/lib.pyx\u001b[0m in \u001b[0;36mpandas._libs.lib.map_infer\u001b[0;34m()\u001b[0m\n",
            "\u001b[0;32m<ipython-input-17-c1538e0b7f1c>\u001b[0m in \u001b[0;36m<lambda>\u001b[0;34m(s)\u001b[0m\n\u001b[1;32m      1\u001b[0m \u001b[0mdf_bomb\u001b[0m \u001b[0;34m=\u001b[0m \u001b[0mdf\u001b[0m\u001b[0;34m[\u001b[0m\u001b[0mdf\u001b[0m\u001b[0;34m.\u001b[0m\u001b[0mattacktype1_txt\u001b[0m \u001b[0;34m==\u001b[0m \u001b[0;34m'Bombing/Explosion'\u001b[0m\u001b[0;34m]\u001b[0m\u001b[0;34m\u001b[0m\u001b[0;34m\u001b[0m\u001b[0m\n\u001b[0;32m----> 2\u001b[0;31m \u001b[0mdf_bomb\u001b[0m \u001b[0;34m=\u001b[0m \u001b[0mdf_bomb\u001b[0m\u001b[0;34m[\u001b[0m\u001b[0;34m'timestamp'\u001b[0m\u001b[0;34m]\u001b[0m\u001b[0;34m.\u001b[0m\u001b[0mapply\u001b[0m\u001b[0;34m(\u001b[0m\u001b[0;32mlambda\u001b[0m \u001b[0ms\u001b[0m\u001b[0;34m:\u001b[0m \u001b[0ms\u001b[0m\u001b[0;34m.\u001b[0m\u001b[0myear\u001b[0m\u001b[0;34m)\u001b[0m\u001b[0;34m.\u001b[0m\u001b[0mvalue_counts\u001b[0m\u001b[0;34m(\u001b[0m\u001b[0mdropna\u001b[0m\u001b[0;34m=\u001b[0m\u001b[0;32mFalse\u001b[0m\u001b[0;34m)\u001b[0m\u001b[0;34m.\u001b[0m\u001b[0mrename_axis\u001b[0m\u001b[0;34m(\u001b[0m\u001b[0;34m'year'\u001b[0m\u001b[0;34m)\u001b[0m\u001b[0;34m.\u001b[0m\u001b[0mreset_index\u001b[0m\u001b[0;34m(\u001b[0m\u001b[0mname\u001b[0m\u001b[0;34m=\u001b[0m\u001b[0;34m'frequency'\u001b[0m\u001b[0;34m)\u001b[0m\u001b[0;34m\u001b[0m\u001b[0;34m\u001b[0m\u001b[0m\n\u001b[0m\u001b[1;32m      3\u001b[0m \u001b[0;34m\u001b[0m\u001b[0m\n\u001b[1;32m      4\u001b[0m \u001b[0;34m\u001b[0m\u001b[0m\n\u001b[1;32m      5\u001b[0m \u001b[0mdf_bomb\u001b[0m\u001b[0;34m[\u001b[0m\u001b[0;34m'frequency'\u001b[0m\u001b[0;34m]\u001b[0m \u001b[0;34m=\u001b[0m \u001b[0;36m100\u001b[0m \u001b[0;34m*\u001b[0m \u001b[0mdf_bomb\u001b[0m\u001b[0;34m[\u001b[0m\u001b[0;34m'frequency'\u001b[0m\u001b[0;34m]\u001b[0m \u001b[0;34m/\u001b[0m \u001b[0mdf\u001b[0m\u001b[0;34m[\u001b[0m\u001b[0;34m'timestamp'\u001b[0m\u001b[0;34m]\u001b[0m\u001b[0;34m.\u001b[0m\u001b[0mapply\u001b[0m\u001b[0;34m(\u001b[0m\u001b[0;32mlambda\u001b[0m \u001b[0ms\u001b[0m\u001b[0;34m:\u001b[0m \u001b[0ms\u001b[0m\u001b[0;34m.\u001b[0m\u001b[0myear\u001b[0m\u001b[0;34m)\u001b[0m\u001b[0;34m.\u001b[0m\u001b[0mvalue_counts\u001b[0m\u001b[0;34m(\u001b[0m\u001b[0mdropna\u001b[0m\u001b[0;34m=\u001b[0m\u001b[0;32mFalse\u001b[0m\u001b[0;34m)\u001b[0m\u001b[0;34m.\u001b[0m\u001b[0mrename_axis\u001b[0m\u001b[0;34m(\u001b[0m\u001b[0;34m'year'\u001b[0m\u001b[0;34m)\u001b[0m\u001b[0;34m.\u001b[0m\u001b[0mreset_index\u001b[0m\u001b[0;34m(\u001b[0m\u001b[0mname\u001b[0m\u001b[0;34m=\u001b[0m\u001b[0;34m'frequency'\u001b[0m\u001b[0;34m)\u001b[0m\u001b[0;34m[\u001b[0m\u001b[0;34m'frequency'\u001b[0m\u001b[0;34m]\u001b[0m\u001b[0;34m\u001b[0m\u001b[0;34m\u001b[0m\u001b[0m\n",
            "\u001b[0;31mAttributeError\u001b[0m: 'str' object has no attribute 'year'"
          ]
        }
      ],
      "source": [
        "df_bomb = df[df.attacktype1_txt == 'Bombing/Explosion']\n",
        "df_bomb = df_bomb['timestamp'].apply(lambda s: s.year).value_counts(dropna=False).rename_axis('year').reset_index(name='frequency')\n",
        "\n",
        "\n",
        "df_bomb['frequency'] = 100 * df_bomb['frequency'] / df['timestamp'].apply(lambda s: s.year).value_counts(dropna=False).rename_axis('year').reset_index(name='frequency')['frequency']\n",
        "df_bomb = df_bomb.sort_values(by=['year'], ascending=True)\n",
        "\n",
        "# Make a barplot\n",
        "fig = plt.figure(figsize=(16, 5))\n",
        "ax = sns.barplot(x=\"year\", y=\"frequency\", \n",
        "                 data=df_bomb,\n",
        "                 color='#37383fff'\n",
        "                );\n",
        "\n",
        "\n",
        "ax.set(xlabel='Año', ylabel='Porcentaje de ocurrencia');\n",
        "ax.set(title='Porcentaje de ataques terroristas de tipo bombardeo/explosion por año');\n",
        "\n",
        "ax.yaxis.set_ticks([int(x) for x in ax.get_yticks()])\n",
        "ax.set_yticklabels([str(int(x)) + '%' for x in ax.get_yticks()]);"
      ]
    },
    {
      "cell_type": "markdown",
      "metadata": {
        "id": "b69dfd3b"
      },
      "source": [
        "Se observa que este tipo de ataque se mantuvo cerca del 50% del total de los ataques terroristas hasta el año 2013, donde se observa una tendencia a disminuir hasta el final de los datos (fines del 2019)."
      ]
    },
    {
      "cell_type": "markdown",
      "metadata": {
        "id": "8de0aa09"
      },
      "source": [
        "El siguiente gráfico muestra la cantidad de ataques terroristas por año en el mundo."
      ]
    },
    {
      "cell_type": "code",
      "execution_count": null,
      "metadata": {
        "id": "7fa4dc1e"
      },
      "outputs": [],
      "source": [
        "df_attacks = df.groupby(df['timestamp'].apply(lambda s: s.year)).count()['eventid'].rename_axis('year').reset_index(name='frequency')\n",
        "\n",
        "# Make a barplot\n",
        "fig = plt.figure(figsize=(16, 8))\n",
        "ax = sns.barplot(x=\"year\", y=\"frequency\", \n",
        "                 data=df_attacks, \n",
        "                 color='#37383fff'\n",
        "                )\n",
        "\n",
        "ax.set(xlabel='Año', ylabel='Frecuencia');\n",
        "ax.set(title='Actos de terrorismo en el mundo por año');\n"
      ]
    },
    {
      "cell_type": "markdown",
      "metadata": {
        "id": "0ed9305f"
      },
      "source": [
        "Se observa que los actos terroristas durante los años 1998-2004 se mantienen en un rango conservado al rededor de los 1000-2000 por año, sin embargo en el 2005 comienzan a crecer, explosivamente desde el 2012 hasta un máximo en el 2014, alcanzando cercano a los 14000 actos durante todo el año, donde comienza a bajar dicha cantidad hasta el año 2019, donde acaba la muestra."
      ]
    },
    {
      "cell_type": "code",
      "execution_count": null,
      "metadata": {
        "id": "00ebcc81"
      },
      "outputs": [],
      "source": [
        "df_2014 = df[df['timestamp'].apply(lambda s: s.year) == 2014].groupby('country_txt').count()['eventid'].rename_axis('country').reset_index(name='frequency')\n",
        "df_2014 = df_2014.sort_values(by=['frequency'], ascending=False)\n",
        "\n",
        "# Make a barplot\n",
        "fig = plt.figure(figsize=(14, 6))\n",
        "ax = sns.barplot(x=\"frequency\", y=\"country\", \n",
        "                 data=df_2014.nlargest(10, 'frequency'),\n",
        "                 color='#37383fff'\n",
        "                )\n",
        "\n",
        "ax.set(xlabel='Ataques (cantidad)', ylabel='País')\n",
        "ax.set(title='10 países con la mayor cantidad de ataques terroristas en 2014');"
      ]
    },
    {
      "cell_type": "markdown",
      "metadata": {
        "id": "3ef46334"
      },
      "source": [
        "A continuación, se estudia como la cantidad de ataques terroristas en estos 10 países evoluciona al pasar los años."
      ]
    },
    {
      "cell_type": "code",
      "execution_count": null,
      "metadata": {
        "id": "50fae26a"
      },
      "outputs": [],
      "source": [
        "countries = list(df_2014.nlargest(10, 'frequency')['country'])\n",
        "df['year'] = df['timestamp'].apply(lambda s: s.year)\n",
        "\n",
        "df_2014_2019 = pd.DataFrame()\n",
        "df_2014_2019['year'] = range(2014, 2019+1)\n",
        "for country in countries:\n",
        "    country_series = df[(2014 <= df.year) & (df.country_txt == country)].groupby(df.year).count()['eventid'].reset_index(name='frequency')\n",
        "    df_2014_2019[country] = country_series['frequency']\n",
        "\n",
        "# Make connected scatter plot\n",
        "df_2014_2019.plot(kind='line', x='year', y=countries,\n",
        "                  backend='matplotlib',\n",
        "                  style='o-', figsize=(20, 10),\n",
        "                  xlabel='Año', ylabel='Cantidad',\n",
        "                  title='Ataques terroristas entre 2014-2019, para los 10 paises con más ataques en 2014.');\n",
        "\n",
        "df = df.loc[:, df.columns!='year']"
      ]
    },
    {
      "cell_type": "markdown",
      "metadata": {
        "id": "57eee935"
      },
      "source": [
        "Se observa que gran parte de la disminución global de ataques terroristas es por la caída de las frecuencias de ataques tato en Irak como en Pakistan, disminuyendo entre 7 y 4 veces (aprox.) respectivamente.\n",
        "\n",
        "Es posible observar también que estos 10 paises (a excepcion de Afganistán), terminan el 2019 con una cantidad de ataques entre 0 a 1000, cifra que se tiende a estabilizar a ese rango."
      ]
    },
    {
      "cell_type": "markdown",
      "source": [
        "## Preguntas y problemas (Predecir)"
      ],
      "metadata": {
        "id": "79E7qxmHqZqN"
      }
    },
    {
      "cell_type": "markdown",
      "source": [
        "opcional/Trivial => Hacer esas preguntas en el analisis exploratorio\n",
        "\n",
        "Una vez viendo el panorama del dataset limpio y analizado, como grupo se generaron las siguientes preguntas e hipótesis que se estiman pueden ser respondidas y validadas con herramientas de minería de datos:\n",
        "\n",
        "\n",
        "* ¿Es posible brindar la probabilidad de que un ataque terrorista suceda en función del lugar que se brinda? (Ejemplo, que probabilidad es que haya un ataque terrorista en medellin, Colombia en los proximos 5 años) [Nico Brandstetter]\n",
        "\n",
        "\n",
        "\n",
        "* ¿Se puede establecer un mapa de calor de donde se concentran los atentados terroristas? ¿Y cómo ha variado este en el tiempo? [] opcional trivial, se puede hacer una animacion con cada\n",
        "* ¿Existe alguna relación referente a la tasa de éxito de estos atentados frente a alguna de las características de la base de datos?[Seba Moreno, lista] opcional trivial\n",
        "\n",
        "* ¿Cómo han variado en el tiempo los ataques terroristas en cuanto armas/tipo de ataque/objetivos? [Seba Moreno, lista] opcional trivial\n",
        "\n",
        "* ¿Es posible establecer alguna relación entre zonas geográficas y si el ataque es doméstico o internacional? [Seba Moreno, haciendo] opcional trivial\n",
        "\n",
        "* ¿Es posible que un cierto grupo de atributos pertenecientes a una instancia tengan una alta correlación con el acierto de un ataque?  [] opcional trivial\n",
        "\n",
        "* ¿Existe alguna relación entre la zona del ataque y la fecha del atentado? [] investigar\n",
        "\n",
        "* ¿Hay algún tipo de relación entre la zona geográfica del ataque con el motivo de éste? (ejemplo, ataques con índole religioso con más frecuentes en ciertos sectores) [] opcional trivial\n",
        "\n",
        "* ¿Es posible, con los datos actuales, encontrar zonas de sospecha de aumento de actos terroristas? [Nicolas B.] Prediccion\n",
        "* Verificar las áreas de dominio de distintos grupos a escala global. [] opcional trivial\n",
        "* Existe relación entre el pais y el tipo de acto terrorista que ha sufrido de manera mas frecuente? [Nicolas] investigar \n",
        "* Patrón o tendencia de alguna nacionalidad en cometer ataques terristas sobre otro. [] clustering de ideologias y hacer pca/discutir en conjunto\n",
        "* Comportamiento del terrorismo a lo largo de los años. [] se repite\n",
        "\n",
        "\n",
        "* es posible caracterizar o predecir el tipo/lugar de ataque terrorista en base a las características que estos tienen? [Jordan] \n",
        "* Sería interesante saber si existen patrones que permitan asociar el tipo de ataque o lugar de donde fue, en base a las otras características del dataset [Jordan] \n",
        "\n",
        "* Para predecir el lugar, trataría de agrupar por continente o región del mundo en lugar de hacerlo por país/ciudad. [] aclaracion para todos\n",
        "\n",
        "* Predecir/caracterizar el target que tenía por efecto el ataque/incidente []\n",
        "* Ver la frecuencia de los tipos de ataques terroristas y sus subcategor []\n",
        "\n",
        "Para el próximo hito se espera poder combinar este data set con algunas variables geopoliticas de los paises, como el sistema politico, el poder economico, las religiones e ideologías predominantes, hitos históricos que ocurrieron cercano al ataque terrorista, etc. [Nicolas I] investigar"
      ],
      "metadata": {
        "id": "fknAbXHK1tvI"
      }
    },
    {
      "cell_type": "markdown",
      "source": [
        "##Contribución por cada integrante\n",
        "\n",
        "* Augusto Aguayo B.: Limpieza del dataset, confeccion de gráficos, creación de repositorio web, análisis inicial del dataset.\n",
        "* Nicolás Brandstetter N.: Redacción exploración de datos, edición de video, presentación, análisis inicial del dataset.\n",
        "* Nicolás Isla F.: Presentación, análisis inicial del dataset, formulación de preguntas.\n",
        "* Sebastián Moreno M.: Análisis inicial del dataset, formulación de preguntas.\n",
        "* Jordan Pérez D.: Presentación, análisis inicial del dataset."
      ],
      "metadata": {
        "id": "NxNXCF7cKt3C"
      }
    },
    {
      "cell_type": "markdown",
      "source": [
        "#Hito 2"
      ],
      "metadata": {
        "id": "dJBH7qrHKmEC"
      }
    },
    {
      "cell_type": "markdown",
      "source": [
        "##Propuesta metodológica experimental inicial\n",
        "- Respondiendo a ¿Es posible obtener la probabilidad de que un ataque terrorista suceda en función del lugar que se brinda?, lo primero es aclarar que el tipo de pregunta a responder sería por ejemplo que probabilidad es que haya un ataque terrorista en medellin, Colombia en los proximos 5 años. Desglosando lo previamente dicho, la pregunta se compone de una ubicación y una extensión temporal. Una propuesta metodológica para resolver esta pregunta es generar una matriz de una dimensionalidad nxm a estimar, con el fin de representar un mapa del mundo. Cada zona será tendrá una probabilidad de un ataque terrorista en función de cuantos ataques terroristas han ocurrido en sus cercanias. Así, cada ataque tendrá un peso normalizado (entre 0-1) en donde cada ataque tendrá un peso maximo de 1 si es que sucedió justo en la ubicación que se consulta, y el resto de ataques tendrá un peso menor a medida que se alejan de la zona, de esta forma, la probabilidad de que ocurra un incidente estará en función de los pesos de cada ataque que tuvo en sus cercanias. Estos pesos serán ajustados mediante un analisis del proceso exploratorio, para bindar una métrica razonable a la hora de justificar el algoritmo que determine los pesos de cada ataque en función de su ubicación. Un segundo parámetro que tendrá cada ubicación, será relacionado a la periodicidad en la que los ataques terroristas ocurren en cada zona, generando una segunda matriz y mapa visual en donde cada zona tendrá un multiplicador entre 0-1, en donde una zona con 1 es una zona con muchos ataques terroristas en un corto periodo de tiempo."
      ],
      "metadata": {
        "id": "S_icmkpJLcvG"
      }
    },
    {
      "cell_type": "markdown",
      "source": [
        "## Resultado preliminar"
      ],
      "metadata": {
        "id": "kQQoa7NbL7X3"
      }
    },
    {
      "cell_type": "markdown",
      "source": [
        "Resumen comentarios para mejorar Hito 1\n",
        "\n",
        "Motivación:\n",
        "*  Explicar mas el terrorismo, agregar ejemplos, ser mas explicito\n",
        "\n",
        "Preguntas/problemáticas:\n",
        "* Explicitar la limíeza de datos según lo que se quiere lograr, ejemplo, ¿por qué quitar ciertas columnas o mantener otras?¿A que tipo de terrorismo vamos dirigido?\n",
        "\n",
        "* No mezclar problemática con motivación\n",
        "\n",
        "Descripción datos:\n",
        "\n",
        "* Pequeño error de +1 entre la diapo de \"algunos porcentajes\" y \"exploración de datos\"\n",
        "* Dejar matrices de tendencias centrales en 2-3cifras decimales\n",
        "* Marcar cifras de interés para mejorar la visualización\n",
        "* Explicar dataset, atributos, etc\n",
        "* Error en la interpretacion de la correlacion: si atributo 1 y Atributo 2 tienen una correlacion de 0;7, no es decir que atributo 1 tiene 70% de suerte de ser atributo 2, solo es decir que estan muy vinculados.\n",
        "* Clarificar significancia de los atributos\n",
        "* Matriz de correlación como gráfico habría sido mejor\n",
        "* No poner directamente lo que retorna el colab en modo oscuro.\n",
        "\n",
        "Presentación:\n",
        "* Presentación descoordinada \n",
        "* Ver a las personas que hablan\n",
        "\n",
        "\n",
        "## Comentarios auxiliar\n",
        "\n",
        "Análisis exploratorio:\n",
        "* Segregar variables. Por ejemplo, ver la frecuencia por lugar geográfico y por tipo de atentado. Probablemente no será lo mismo contar la cantidad en iraq para cierto ataque vs ucrania. Por ello, sugiero ir desglozando ese tipo de cosas en múltiples variables, que fácilmente podrían hacer con un gráfico de barras.\n",
        "\n",
        "Preguntas:\n",
        "* Preguntas relacionadas a mayor entendimiento: eso lo pueden hacer con un conteo de frecuencia filtrando el dataset por las variables necesarias y calcular alguna correlación. \n",
        "* Pregunta relacionadas a generar nueva información: al parecer pasa lo mismo que lo anterior. Otras: un gráfico (similar al del informe) pero dividido entre armas u objetivo.\n",
        "* Para predecir el lugar, trataría de agrupar por continente o región del mundo en lugar de hacerlo por país/ciudad.\n",
        "* Sería interesante saber si existen patrones que permitan asociar el tipo de ataque o lugar de donde fue, en base a las otras características del dataset\n",
        "* Predecir/caracterizar el target que tenía por efecto el ataque/incidente\n",
        "* Ver la frecuencia de los tipos de ataques terroristas y sus subcategor\n",
        "\n",
        "\n",
        "Mensaje Personal:\n",
        "Muy buena motivación para introducir el problema a resolver. Además me gustó bastante la presentación en base a cómo contaron la historia. Respecto al análisis exploratorio, creo que estuvo bien tener una visión global de problema viendo diferentes atributos como frecuencia por lugar geográfico, año, etc. Algo que extrañe en este punto es que pudieran segregar estas mismas variables en otra. Por ejemplo, ver la frecuencia por lugar geográfico y por tipo de atentado. Probablemente no será lo mismo contar la cantidad en iraq para cierto ataque vs ucrania. Por ello, sugiero ir desglozando ese tipo de cosas en múltiples variables, que fácilmente podrían hacer con un gráfico de barras. Respecto a las preguntas, creo que hay que mejorarlas bastante pues muchas de ellas pueden ser respondidad trivialmente en el análisis exploratorio. Para ello, me enfocaré en las que aparecen en la ppt. Preguntas relacionadas a mayor entendimiento: eso lo pueden hacer con un conteo de frecuencia filtrando el dataset por las variables necesarias y calcular alguna correlación. Pregunta relacionadas a generar nueva información: al parecer pasa lo mismo que lo anterior. Otras: un gráfico (similar al del informe) pero dividido entre armas u objetivo.\n",
        "En base a esto, propongo re-orientar las preguntas a algo como: es posible caracterizar o predecir el tipo/lugar de ataque terrorista en base a las características que estos tienen? Creo que para predecir el lugar, trataría de agrupar por continente o región del mundo en lugar de hacerlo por país/ciudad. Pienso que sería interesante saber si existen patrones que permitan asociar el tipo de ataque o lugar de donde fue, en base a las otras características del dataset. También se podría predecir/caracterizar el target que tenía por efecto el ataque/incidente. Una cosa que también podrían analizar a priori, es ver la frecuencia de los tipos de ataques terroristas y sus subcategorías. Quizás si uno piensa que tiene suficientes subcategorías, la predicción o descripción de estas también sería interesante analizar.\n",
        "\n",
        "\n"
      ],
      "metadata": {
        "id": "AZxe_BFcQnww"
      }
    },
    {
      "cell_type": "markdown",
      "source": [
        "#### Pregunta: ¿Existe relación alguna entre el tipo de pais y los ataques terrorista?\n",
        "\n",
        ">Respuesta: Para el hito 3 se espera poder combinar este dataset con variables geologicas, sociales y politicas de los diversos paises. De esta manera, se busca entender el contexto general que produce que algunos paises sean mas propensos a cierto tipo de ataques, a su vez tambien se busca encontrar que factores sociales pueden producir una mayor tasa de ataques, y por ultimo que factores se relacionan con el exito del ataque.\n",
        "\n"
      ],
      "metadata": {
        "id": "93-4891vQYVN"
      }
    },
    {
      "cell_type": "markdown",
      "source": [
        "##### Metodologia\n",
        "\n",
        "Para resolver esta pregunta se añadirá la base de datos World Development Indicators, que posee cientos de indicadores sociales y políticos desde los años 1960 hasta 2021. Donde primero se realizará una limpieza de indicadores considerando los que posean más información y sean de mayor importancia a la hora de clasificar un país. Ejemplo de lo anterior pueden ser los índices de ingreso per cápita, el ingreso nacional, daños producidos por el dióxido de carbono, etc. \n",
        "\n",
        "Luego se calcularán diversos atributos pertenecientes al dataset original, algunos ejemplos pueden ser la cantidad de atentados terroristas por año por pais, tasa de exito por año por pais, promedio/total de personas que resultaron heridas/asesinadas por atentado/año por pais, etc. Lo que se busca con estos calculos es caracterizar a traves de los años como han sido los ataques terroristas y cual es su tendencia.\n",
        "\n",
        "Finalmente, complementando ambas bases y atributos, se espera encontrar una explicacion, antecedentes o motivos que hace que se genere este fenomeno. De esta forma, comparando los paises que han sufrido de ataques terroristas se podran obtener que indicadores sociales y políticos \n",
        "son los mas relevantes en cuanto a este fenomeno, una forma de lograr lo anterior es mediante un analisis de correlación entre los indicadores sociales con respecto a la caracterizacion del ataque. Por otra parte, ya que se tiene la información anual se podra estudiar el comportamiento temporal y cuál es la tendencia de los atributos en los países que ha presentado una gran actividad terrorista, por lo que también se podría explicar el detonante social que produjo aquel acto. \n",
        "\n",
        "En caso de no encontrar resultados significativos, se realizara un análisis mas simple solo teniendo en cuenta factores mas generales como por ejemplo tipo de gobierno, ingreso PIB, religiones, etc.\n",
        "\n"
      ],
      "metadata": {
        "id": "PjJ8VsGTQfjp"
      }
    }
  ]
}